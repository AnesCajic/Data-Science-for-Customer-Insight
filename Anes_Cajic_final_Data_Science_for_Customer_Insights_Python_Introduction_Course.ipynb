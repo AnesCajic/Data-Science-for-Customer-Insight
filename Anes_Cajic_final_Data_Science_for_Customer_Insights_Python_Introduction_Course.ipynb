{
  "nbformat": 4,
  "nbformat_minor": 0,
  "metadata": {
    "colab": {
      "name": "Data Science for Customer Insights - Python Introduction Course",
      "provenance": [],
      "gpuType": "T4",
      "include_colab_link": true
    },
    "kernelspec": {
      "display_name": "Python 3",
      "name": "python3"
    },
    "gpuClass": "standard",
    "accelerator": "GPU"
  },
  "cells": [
    {
      "cell_type": "markdown",
      "metadata": {
        "id": "view-in-github",
        "colab_type": "text"
      },
      "source": [
        "<a href=\"https://colab.research.google.com/github/AnesCajic/Data-Science-for-Customer-Insight/blob/main/Anes_Cajic_final_Data_Science_for_Customer_Insights_Python_Introduction_Course.ipynb\" target=\"_parent\"><img src=\"https://colab.research.google.com/assets/colab-badge.svg\" alt=\"Open In Colab\"/></a>"
      ]
    },
    {
      "cell_type": "markdown",
      "metadata": {
        "id": "5fCEDCU_qrC0"
      },
      "source": [
        "#Data Science for Customer Insights - Python Introduction Course\n",
        "\n",
        "Welcome to Data Science for Customer Insights. In the following tasks, you will learn how to do Data Science with Python. In the end, you will be able to: \n",
        "\n",
        "- do basic coding and use Python loops, lists, functions and more\n",
        "- access and apply machine learning algorithms to data sets\n",
        "- understand fundamental machine learning concepts\n",
        "\n",
        "Please go trough all tasks and answer the questions carefully. **This is task-based learning - you will have to Google a lot**. You can use any credible source material, you like, e.g.: \n",
        "\n",
        "- stackoverflow\n",
        "- SoloLearn\n",
        "- DataCamp\n",
        "- udemy\n",
        "\n",
        "Again - you will potentially have to Google everything, this is normal!\n",
        "\n",
        "Also, every time you see those signs \"**...**\" you have to change them to generate the correct code. \n"
      ]
    },
    {
      "cell_type": "markdown",
      "metadata": {
        "id": "UQWo_jfy4H9s"
      },
      "source": [
        "**Before you start: Please provide your information**\n",
        "\n",
        "Name: Anes Cajic\n",
        "\n",
        "Matr.: 7168903"
      ]
    },
    {
      "cell_type": "markdown",
      "metadata": {
        "id": "GJBs_flRovLc"
      },
      "source": [
        "##First Steps\n",
        " "
      ]
    },
    {
      "cell_type": "markdown",
      "metadata": {
        "id": "p4NFErGadias"
      },
      "source": [
        "**Print Function**\n",
        "\n",
        "By using the print statement, we're able to output text. \n",
        "\n",
        "*Please run the following code*:"
      ]
    },
    {
      "cell_type": "code",
      "metadata": {
        "id": "gJr_9dXGpJ05",
        "colab": {
          "base_uri": "https://localhost:8080/",
          "height": 0
        },
        "outputId": "119f1c15-2042-4001-b57c-188e0ecadcaf"
      },
      "source": [
        "print ('Hello World')"
      ],
      "execution_count": 1,
      "outputs": [
        {
          "output_type": "stream",
          "name": "stdout",
          "text": [
            "Hello World\n"
          ]
        }
      ]
    },
    {
      "cell_type": "markdown",
      "metadata": {
        "id": "L3qFPIIqrc77"
      },
      "source": [
        "<img src=\"https://miro.medium.com/max/1250/1*iNw33pBEYZIAoE9oHdhLLw.jpeg\" width=500 height=330>"
      ]
    },
    {
      "cell_type": "markdown",
      "metadata": {
        "id": "2fhs6GZ4qFMx"
      },
      "source": [
        "<strong>Basic Operations</strong>\n",
        "\n",
        "With Python, you can easily do some calculations. \n",
        "\n",
        "*Tap around to perform an addition with a result of 5:*"
      ]
    },
    {
      "cell_type": "code",
      "metadata": {
        "id": "c6i-78HEXGNu",
        "colab": {
          "base_uri": "https://localhost:8080/",
          "height": 0
        },
        "outputId": "b0754f6d-8855-4190-96d2-ea4c5948fa28"
      },
      "source": [
        "3 + 2"
      ],
      "execution_count": 4,
      "outputs": [
        {
          "output_type": "execute_result",
          "data": {
            "text/plain": [
              "5"
            ]
          },
          "metadata": {},
          "execution_count": 4
        }
      ]
    },
    {
      "cell_type": "markdown",
      "metadata": {
        "id": "bX2Xoej0WmJn"
      },
      "source": [
        "*Try to divide by 2 to get a result of 2.00*\n",
        "\n",
        "**<strong><font color='blue'> Side Note:** we call 2.00 a float variable, while 2 is called an integer variable. Despite seemingly being the same, Python sees them as different datatypes which for example leads to differnt memory needs.</font></strong>"
      ]
    },
    {
      "cell_type": "code",
      "metadata": {
        "id": "4ty9qsqVWVq7",
        "colab": {
          "base_uri": "https://localhost:8080/",
          "height": 0
        },
        "outputId": "271a5af4-0591-4cf1-cb05-9b41d3f104e8"
      },
      "source": [
        "4/2"
      ],
      "execution_count": 5,
      "outputs": [
        {
          "output_type": "execute_result",
          "data": {
            "text/plain": [
              "2.0"
            ]
          },
          "metadata": {},
          "execution_count": 5
        }
      ]
    },
    {
      "cell_type": "markdown",
      "metadata": {
        "id": "Wt_Y_ZWA9miH"
      },
      "source": [
        "**Comments**\n",
        "\n",
        "You can comment your code, to explain something for later reference.\n",
        "\n",
        "*Please turn \"This is just a comment\" into a proper comment.*"
      ]
    },
    {
      "cell_type": "code",
      "metadata": {
        "id": "ssxN9tka9-2o",
        "colab": {
          "base_uri": "https://localhost:8080/",
          "height": 0
        },
        "outputId": "cd7cde46-935a-4294-d3b6-25843af52230"
      },
      "source": [
        "4 + 4\n",
        "#This is just a comment"
      ],
      "execution_count": 7,
      "outputs": [
        {
          "output_type": "execute_result",
          "data": {
            "text/plain": [
              "8"
            ]
          },
          "metadata": {},
          "execution_count": 7
        }
      ]
    },
    {
      "cell_type": "markdown",
      "metadata": {
        "id": "4i-XuhKW3owN"
      },
      "source": [
        "**Storing Values**\n",
        "\n",
        "You can store values in variables.\n",
        "\n",
        "*Please complete the code to generate 42 as an output.*"
      ]
    },
    {
      "cell_type": "code",
      "metadata": {
        "id": "T29nLva63oG7",
        "colab": {
          "base_uri": "https://localhost:8080/",
          "height": 0
        },
        "outputId": "6ed948c5-48e6-4b2a-b4bb-658e53b05d46"
      },
      "source": [
        "a = 21\n",
        "\n",
        "b = a * 2\n",
        "\n",
        "print(b)"
      ],
      "execution_count": 8,
      "outputs": [
        {
          "output_type": "stream",
          "name": "stdout",
          "text": [
            "42\n"
          ]
        }
      ]
    },
    {
      "cell_type": "markdown",
      "metadata": {
        "id": "Jhy8suwbZtde"
      },
      "source": [
        "**ZeroDivisionError**\n",
        "\n",
        "Dividing by zero produces an error, as no answer can be calculated. \n",
        "\n",
        "*You don't believe that? Tap around and divide 3 by zero.*"
      ]
    },
    {
      "cell_type": "code",
      "metadata": {
        "id": "ghD_v1QJaWhM",
        "colab": {
          "base_uri": "https://localhost:8080/",
          "height": 166
        },
        "outputId": "2a334c33-5c99-4cc6-9e24-25de64b1c9eb"
      },
      "source": [
        "3/0"
      ],
      "execution_count": 9,
      "outputs": [
        {
          "output_type": "error",
          "ename": "ZeroDivisionError",
          "evalue": "ignored",
          "traceback": [
            "\u001b[0;31m---------------------------------------------------------------------------\u001b[0m",
            "\u001b[0;31mZeroDivisionError\u001b[0m                         Traceback (most recent call last)",
            "\u001b[0;32m<ipython-input-9-f6cc6d14333b>\u001b[0m in \u001b[0;36m<cell line: 1>\u001b[0;34m()\u001b[0m\n\u001b[0;32m----> 1\u001b[0;31m \u001b[0;36m3\u001b[0m\u001b[0;34m/\u001b[0m\u001b[0;36m0\u001b[0m\u001b[0;34m\u001b[0m\u001b[0;34m\u001b[0m\u001b[0m\n\u001b[0m",
            "\u001b[0;31mZeroDivisionError\u001b[0m: division by zero"
          ]
        }
      ]
    },
    {
      "cell_type": "markdown",
      "metadata": {
        "id": "8bPzVa96a-zX"
      },
      "source": [
        "**Other numerical Operations**\n",
        "\n",
        "You can also use Python for exponentiation or the quotient and remainder of a division.\n",
        "\n",
        "*Perform an exponentiation with a result of 32:*"
      ]
    },
    {
      "cell_type": "code",
      "metadata": {
        "id": "vHWTZFAsbnrU",
        "colab": {
          "base_uri": "https://localhost:8080/",
          "height": 0
        },
        "outputId": "3d28ace5-cea1-465a-f50b-830d0c5d8562"
      },
      "source": [
        "2**5"
      ],
      "execution_count": 13,
      "outputs": [
        {
          "output_type": "execute_result",
          "data": {
            "text/plain": [
              "32"
            ]
          },
          "metadata": {},
          "execution_count": 13
        }
      ]
    },
    {
      "cell_type": "markdown",
      "metadata": {
        "id": "e0KghhEMdLLP"
      },
      "source": [
        "*Try to get the remainder of the division 1.25 by 0.5 (should be 0.25):*"
      ]
    },
    {
      "cell_type": "code",
      "metadata": {
        "id": "cKOpQ-2ebvmM",
        "colab": {
          "base_uri": "https://localhost:8080/",
          "height": 0
        },
        "outputId": "c9b86bd4-e016-4e4d-8a79-665f02a59ab0"
      },
      "source": [
        "1.25%0.5"
      ],
      "execution_count": 14,
      "outputs": [
        {
          "output_type": "execute_result",
          "data": {
            "text/plain": [
              "0.25"
            ]
          },
          "metadata": {},
          "execution_count": 14
        }
      ]
    },
    {
      "cell_type": "markdown",
      "metadata": {
        "id": "OSqSFbg6jRw7"
      },
      "source": [
        "##Data Types"
      ]
    },
    {
      "cell_type": "markdown",
      "metadata": {
        "id": "KA7WEmmTjbRl"
      },
      "source": [
        "If Python handles data, it has to somehow turn it into 1s and 0s. Depending on the type of data, Python uses different internal representations. It is therefore very important, to always make sure your data has the right data type."
      ]
    },
    {
      "cell_type": "markdown",
      "metadata": {
        "id": "fxXZEWORXump"
      },
      "source": [
        "**Integers**\n",
        "\n",
        "Integers are whole numbers like: \n",
        "\n",
        "- 5 \n",
        "- 3\n"
      ]
    },
    {
      "cell_type": "markdown",
      "metadata": {
        "id": "SpL66XSAV3PW"
      },
      "source": [
        "**Floats**\n",
        "\n",
        "Numbers that aren't integers are represented as floats in Python (\"a floating point number\"). Some examples are: \n",
        "- 0.8\n",
        "- -5.346\n",
        "\n",
        "How to create a float? \n",
        "By entering a number with a decimal point, or by using operations such as division on integers as well as operations on a float and an integer.\n",
        "\n",
        "*Please build a float dividing 12 by 4 and try to convert it back into an integer (should be 3 not 3.0):*"
      ]
    },
    {
      "cell_type": "code",
      "metadata": {
        "id": "pN81xZjUXB5Z",
        "colab": {
          "base_uri": "https://localhost:8080/",
          "height": 0
        },
        "outputId": "8baf7ede-3467-4429-b59b-016d5047f78e"
      },
      "source": [
        "# create float\n",
        "a = 12/4\n",
        "print(a)\n",
        "# turn it into an integer\n",
        "a = int(a)\n",
        "print(a)"
      ],
      "execution_count": 20,
      "outputs": [
        {
          "output_type": "stream",
          "name": "stdout",
          "text": [
            "3.0\n",
            "3\n"
          ]
        }
      ]
    },
    {
      "cell_type": "markdown",
      "metadata": {
        "id": "VprZLg-EY5s-"
      },
      "source": [
        "**Strings**\n",
        "\n",
        "You have to use a string if you want to use text in Python. It's one of the basic things that store text like: \n",
        "\n",
        "- Python is fun\n",
        "- I love Data Science\n",
        "\n",
        "How to create a string? By entering text between two single or double quotation marks.\n",
        "\n",
        "*Run the code to create a string:*"
      ]
    },
    {
      "cell_type": "code",
      "metadata": {
        "id": "98w-iUSGZ6ko",
        "colab": {
          "base_uri": "https://localhost:8080/",
          "height": 35
        },
        "outputId": "77a70791-db3a-422d-dafc-67e899d11650"
      },
      "source": [
        "\"Python is fun\""
      ],
      "execution_count": 21,
      "outputs": [
        {
          "output_type": "execute_result",
          "data": {
            "text/plain": [
              "'Python is fun'"
            ],
            "application/vnd.google.colaboratory.intrinsic+json": {
              "type": "string"
            }
          },
          "metadata": {},
          "execution_count": 21
        }
      ]
    },
    {
      "cell_type": "markdown",
      "metadata": {
        "id": "VeQ8nTgbbyur"
      },
      "source": [
        "*What's wrong with the following string? Please correct it so that the type is 'str' and there is no error message!*"
      ]
    },
    {
      "cell_type": "code",
      "metadata": {
        "id": "zFxpt_tYaiPd",
        "colab": {
          "base_uri": "https://localhost:8080/",
          "height": 0
        },
        "outputId": "7d6cc06f-c19a-4646-84a8-ae45b3cb67d5"
      },
      "source": [
        "type(\"Lisa's brother likes good food.\")"
      ],
      "execution_count": 22,
      "outputs": [
        {
          "output_type": "execute_result",
          "data": {
            "text/plain": [
              "str"
            ]
          },
          "metadata": {},
          "execution_count": 22
        }
      ]
    },
    {
      "cell_type": "markdown",
      "metadata": {
        "id": "We12AcbmdcPU"
      },
      "source": [
        "**Booleans&Comparisons**\n",
        "\n",
        "You've already learned about integers, floats and strings. In Python, another type is the Boolean type. It has two values: True and False. By comparing values (using the equal operator ==), you can create Booleans. \n",
        "\n",
        "*Please define my_boolean as True:*  "
      ]
    },
    {
      "cell_type": "code",
      "metadata": {
        "id": "S7bs7aEXgjML",
        "colab": {
          "base_uri": "https://localhost:8080/",
          "height": 0
        },
        "outputId": "a31f8957-3432-4e18-a072-9cbc6dd5f0d0"
      },
      "source": [
        "my_boolean = True \n",
        "print(my_boolean)"
      ],
      "execution_count": 28,
      "outputs": [
        {
          "output_type": "stream",
          "name": "stdout",
          "text": [
            "True\n"
          ]
        }
      ]
    },
    {
      "cell_type": "markdown",
      "metadata": {
        "id": "G-Uv7DJigzb9"
      },
      "source": [
        "*Please compare two numbers and see if you get the \"True\" statement:*"
      ]
    },
    {
      "cell_type": "code",
      "metadata": {
        "id": "As8PeDsQnU3P",
        "colab": {
          "base_uri": "https://localhost:8080/",
          "height": 0
        },
        "outputId": "b9604f50-ebbb-4662-e07b-d53f268a480b"
      },
      "source": [
        "11 == 11"
      ],
      "execution_count": 29,
      "outputs": [
        {
          "output_type": "execute_result",
          "data": {
            "text/plain": [
              "True"
            ]
          },
          "metadata": {},
          "execution_count": 29
        }
      ]
    },
    {
      "cell_type": "markdown",
      "metadata": {
        "id": "61liw4eOhy2i"
      },
      "source": [
        "*Is \"hi\" equal to \"hello\"? Try it out!*"
      ]
    },
    {
      "cell_type": "code",
      "metadata": {
        "id": "0srfVv0vnmYr",
        "colab": {
          "base_uri": "https://localhost:8080/",
          "height": 0
        },
        "outputId": "511d9144-cf2f-4c27-86c0-f80a2be87c16"
      },
      "source": [
        "\"hi\" == \"hello\""
      ],
      "execution_count": 30,
      "outputs": [
        {
          "output_type": "execute_result",
          "data": {
            "text/plain": [
              "False"
            ]
          },
          "metadata": {},
          "execution_count": 30
        }
      ]
    },
    {
      "cell_type": "markdown",
      "metadata": {
        "id": "6c-qfGoloEBC"
      },
      "source": [
        "The not equal operator (!=) is another comparison operator. \n",
        "\n",
        "*Please run the code:*"
      ]
    },
    {
      "cell_type": "code",
      "metadata": {
        "id": "zFYUiLPWoLFX",
        "colab": {
          "base_uri": "https://localhost:8080/",
          "height": 0
        },
        "outputId": "45bd5493-79bf-4298-991f-84c142f103a0"
      },
      "source": [
        "3!=3"
      ],
      "execution_count": 31,
      "outputs": [
        {
          "output_type": "execute_result",
          "data": {
            "text/plain": [
              "False"
            ]
          },
          "metadata": {},
          "execution_count": 31
        }
      ]
    },
    {
      "cell_type": "markdown",
      "metadata": {
        "id": "siEObqC2iNHa"
      },
      "source": [
        "*Please generate a True statement using the operator:*"
      ]
    },
    {
      "cell_type": "code",
      "metadata": {
        "id": "owFd0uatoOFn",
        "colab": {
          "base_uri": "https://localhost:8080/",
          "height": 0
        },
        "outputId": "0ae78c90-1201-41fe-a9fa-3f6bf311a9d9"
      },
      "source": [
        "\"Hello\" != \"Hi\""
      ],
      "execution_count": 33,
      "outputs": [
        {
          "output_type": "execute_result",
          "data": {
            "text/plain": [
              "True"
            ]
          },
          "metadata": {},
          "execution_count": 33
        }
      ]
    },
    {
      "cell_type": "markdown",
      "metadata": {
        "id": "crYwcDotoYtw"
      },
      "source": [
        "In Python, you can also use operators (> and <) to determine whether one number (float or integer) is smaller than or greater than another.\n",
        "\n",
        "*Tap around (change the ...) and generate one True as well as one False statement:*"
      ]
    },
    {
      "cell_type": "code",
      "metadata": {
        "id": "RV-FHVego3uL",
        "colab": {
          "base_uri": "https://localhost:8080/",
          "height": 0
        },
        "outputId": "e2bd228b-cc30-40d3-bbfc-23719dd21987"
      },
      "source": [
        "24 > 16"
      ],
      "execution_count": 34,
      "outputs": [
        {
          "output_type": "execute_result",
          "data": {
            "text/plain": [
              "True"
            ]
          },
          "metadata": {},
          "execution_count": 34
        }
      ]
    },
    {
      "cell_type": "code",
      "metadata": {
        "id": "KPY852q_o9rJ",
        "colab": {
          "base_uri": "https://localhost:8080/",
          "height": 0
        },
        "outputId": "3050ffcc-b89a-4aa3-d3fd-91299a8fea78"
      },
      "source": [
        "6 < 6.0"
      ],
      "execution_count": 35,
      "outputs": [
        {
          "output_type": "execute_result",
          "data": {
            "text/plain": [
              "False"
            ]
          },
          "metadata": {},
          "execution_count": 35
        }
      ]
    },
    {
      "cell_type": "markdown",
      "metadata": {
        "id": "agDDzvQlrHxO"
      },
      "source": [
        "**<strong><font color='blue'> Side Note: In the first lessons you've learned about the basic operations in Python. To be better prepared for the following steps, the table below provides a summary: </font></strong>**\n",
        "\n",
        "<img src=\"https://i1.wp.com/makemeanalyst.com/wp-content/uploads/2017/06/Assignment-Operator.png?resize=590%2C426\" width=500 height=300>"
      ]
    },
    {
      "cell_type": "markdown",
      "metadata": {
        "id": "UdRyKR44dcNI"
      },
      "source": [
        "##Control Structures\n"
      ]
    },
    {
      "cell_type": "markdown",
      "metadata": {
        "id": "AX8KEqV7d2jR"
      },
      "source": [
        "**if&else statement**"
      ]
    },
    {
      "cell_type": "markdown",
      "metadata": {
        "id": "hdtFz5UXptLZ"
      },
      "source": [
        "<img src=\"https://www.tutorialspoint.com/python/images/if_else_statement.jpg\" width=300 height=300>\n",
        "\n",
        "*Now it's your turn! Change the following code (...) to generate \"else\":*"
      ]
    },
    {
      "cell_type": "code",
      "metadata": {
        "id": "E6xzkR1ukfO0",
        "colab": {
          "base_uri": "https://localhost:8080/",
          "height": 0
        },
        "outputId": "717af0af-8d49-4e6e-8e1c-9b9407207d93"
      },
      "source": [
        "if 2 + 2 == 4:\n",
        "  if 3 * 4 == 9:\n",
        "    print (\"if\")\n",
        "  else: \n",
        "    print (\"else\")"
      ],
      "execution_count": 36,
      "outputs": [
        {
          "output_type": "stream",
          "name": "stdout",
          "text": [
            "else\n"
          ]
        }
      ]
    },
    {
      "cell_type": "markdown",
      "metadata": {
        "id": "datsEgDB4iXQ"
      },
      "source": [
        "**<strong><font color='blue'> Side Note:**  Indentations are very important in Python, as they structure your code. </font></strong>\n",
        "\n",
        "<img src=\"https://i.redd.it/wk843smkri441.jpg\" width=500 height=300>"
      ]
    },
    {
      "cell_type": "markdown",
      "metadata": {
        "id": "40mdnbNieJTh"
      },
      "source": [
        "**Boolean Logic**\n",
        "\n",
        "Boolean Logic is used to make more complicated conditions for if statements that rely on more than one condition. The Boolean operators are **and, or and not**. "
      ]
    },
    {
      "cell_type": "markdown",
      "metadata": {
        "id": "OdysNNSonWA0"
      },
      "source": [
        "*Tap around to get a false statement:*"
      ]
    },
    {
      "cell_type": "code",
      "metadata": {
        "id": "7htGUSgym9KX",
        "colab": {
          "base_uri": "https://localhost:8080/",
          "height": 0
        },
        "outputId": "c0b3d73b-cebc-4c23-b452-efbef3055ad1"
      },
      "source": [
        "print ( 2 < 3 and 2 > 6 )"
      ],
      "execution_count": 37,
      "outputs": [
        {
          "output_type": "stream",
          "name": "stdout",
          "text": [
            "False\n"
          ]
        }
      ]
    },
    {
      "cell_type": "markdown",
      "metadata": {
        "id": "dHpbmcEBn_34"
      },
      "source": [
        "*Change and correct the following code to print \"Hi\":*"
      ]
    },
    {
      "cell_type": "code",
      "metadata": {
        "id": "XlAjNuIqoKgs",
        "colab": {
          "base_uri": "https://localhost:8080/",
          "height": 0
        },
        "outputId": "47bf460b-d34b-489d-8b6d-619101882534"
      },
      "source": [
        "age = 22 \n",
        "money = 400 \n",
        "if age > 20 and money > 50:\n",
        "  print(\"Hi\")"
      ],
      "execution_count": 38,
      "outputs": [
        {
          "output_type": "stream",
          "name": "stdout",
          "text": [
            "Hi\n"
          ]
        }
      ]
    },
    {
      "cell_type": "markdown",
      "metadata": {
        "id": "0JOau1ITeOBp"
      },
      "source": [
        "**Lists**\n",
        "\n",
        "Lists are used to store multiple items. By using square brackets with commas separating items, you can create a list. \n",
        "\n",
        "*Try to print the first argument of the list (\"Hello\").*"
      ]
    },
    {
      "cell_type": "code",
      "metadata": {
        "id": "zjovDwhNlYFn",
        "colab": {
          "base_uri": "https://localhost:8080/",
          "height": 0
        },
        "outputId": "2ebc0456-c560-4851-c772-8389165ddf5a"
      },
      "source": [
        "words =  [\"Hello\", \"world\", \"!\"]\n",
        "print (words[0])"
      ],
      "execution_count": 42,
      "outputs": [
        {
          "output_type": "stream",
          "name": "stdout",
          "text": [
            "Hello\n"
          ]
        }
      ]
    },
    {
      "cell_type": "markdown",
      "metadata": {
        "id": "F8VgN4fgrdDZ"
      },
      "source": [
        "*Change the code to create a list and print its 3rd element:*"
      ]
    },
    {
      "cell_type": "code",
      "metadata": {
        "id": "d5rWZJjOrgwC",
        "colab": {
          "base_uri": "https://localhost:8080/",
          "height": 0
        },
        "outputId": "f180ba4f-2acb-4878-d7f9-1c4243af9d6d"
      },
      "source": [
        "the_list = [33, 66, 99]\n",
        "print(the_list[2])"
      ],
      "execution_count": 44,
      "outputs": [
        {
          "output_type": "stream",
          "name": "stdout",
          "text": [
            "99\n"
          ]
        }
      ]
    },
    {
      "cell_type": "markdown",
      "metadata": {
        "id": "UEmilTRFecFV"
      },
      "source": [
        "**Loops**\n",
        "\n",
        "A for loop is used to repeat a block of code multiple times. It is common to use the for loop when the number of iterations is fixed (e.g. iterating over a fixed list of items in a shopping list), but there are other loops as well.\n",
        "\n",
        "*Change the code below to print all elements of your list:*"
      ]
    },
    {
      "cell_type": "code",
      "metadata": {
        "id": "hrSVVOz2Uzm9",
        "colab": {
          "base_uri": "https://localhost:8080/",
          "height": 0
        },
        "outputId": "db5f3349-7a62-49bf-ac33-76690cdeda82"
      },
      "source": [
        "your_list = ['a','b','c','d']\n",
        "\n",
        "for i in your_list:\n",
        "  print (i)"
      ],
      "execution_count": 49,
      "outputs": [
        {
          "output_type": "stream",
          "name": "stdout",
          "text": [
            "a\n",
            "b\n",
            "c\n",
            "d\n"
          ]
        }
      ]
    },
    {
      "cell_type": "markdown",
      "metadata": {
        "id": "QOEUQc1SVzqh"
      },
      "source": [
        "*Please change the ... to correct the code so that the loop is broken after the loop reaches the 'c' in your list.*"
      ]
    },
    {
      "cell_type": "code",
      "metadata": {
        "id": "kYHdF1AVlZYy",
        "colab": {
          "base_uri": "https://localhost:8080/",
          "height": 0
        },
        "outputId": "c90de5bf-27d0-4005-ddac-0a01fe861b73"
      },
      "source": [
        "for item in your_list: \n",
        "  print(item)\n",
        "  if item == \"c\": \n",
        "    print (\"Breaking\")\n",
        "    break \n",
        "\n",
        "print(\"Finished\")"
      ],
      "execution_count": 50,
      "outputs": [
        {
          "output_type": "stream",
          "name": "stdout",
          "text": [
            "a\n",
            "b\n",
            "c\n",
            "Breaking\n",
            "Finished\n"
          ]
        }
      ]
    },
    {
      "cell_type": "markdown",
      "metadata": {
        "id": "hDqpOb_IXfK0"
      },
      "source": [
        "What's wrong with the following code? \n",
        "*Please find the correct code to count all the 't' letters in the string. ATTENTION, you have to correct multiple errors and may need to change pre-written code.*"
      ]
    },
    {
      "cell_type": "code",
      "metadata": {
        "id": "if61RplmXxGC",
        "colab": {
          "base_uri": "https://localhost:8080/",
          "height": 0
        },
        "outputId": "7d4314ba-d226-4df1-b5b3-b34ee356996e"
      },
      "source": [
        "str = \"testing for loops to count 't's\"\n",
        "count = 0 \n",
        "\n",
        "for i in str: \n",
        "  if i == 't':\n",
        "    count = count+1\n",
        "\n",
        "print (count) "
      ],
      "execution_count": 56,
      "outputs": [
        {
          "output_type": "stream",
          "name": "stdout",
          "text": [
            "5\n"
          ]
        }
      ]
    },
    {
      "cell_type": "markdown",
      "metadata": {
        "id": "XBlj6_t8efo8"
      },
      "source": [
        "**Range**\n",
        "\n",
        "The range() function returns a sequence of numbers. By default, it starts from 0, increments by 1 and stops before the specified number. \n",
        "\n",
        "*The code below should generate a list containing all of the integers, up to 10 (not incl.). Please change the following code (...):*"
      ]
    },
    {
      "cell_type": "code",
      "metadata": {
        "id": "jeR4mJGUlad7",
        "colab": {
          "base_uri": "https://localhost:8080/",
          "height": 0
        },
        "outputId": "4502c22f-5fe8-4c55-ed3c-c530e76dc152"
      },
      "source": [
        "numbers = list(range(10))\n",
        "\n",
        "print(numbers)"
      ],
      "execution_count": 57,
      "outputs": [
        {
          "output_type": "stream",
          "name": "stdout",
          "text": [
            "[0, 1, 2, 3, 4, 5, 6, 7, 8, 9]\n"
          ]
        }
      ]
    },
    {
      "cell_type": "markdown",
      "metadata": {
        "id": "cLKi_bFvDN8K"
      },
      "source": [
        "*Now change the code below to print every even number from 10 to 19 using range:*"
      ]
    },
    {
      "cell_type": "code",
      "metadata": {
        "id": "TjGtMu2hDOz6",
        "colab": {
          "base_uri": "https://localhost:8080/",
          "height": 0
        },
        "outputId": "2a35d228-367a-4cd3-caa7-441b1d95a4ae"
      },
      "source": [
        "numbers = list(range(10,20))\n",
        "\n",
        "print([i for i in numbers if i%2 == 0])"
      ],
      "execution_count": 61,
      "outputs": [
        {
          "output_type": "stream",
          "name": "stdout",
          "text": [
            "[10, 12, 14, 16, 18]\n"
          ]
        }
      ]
    },
    {
      "cell_type": "markdown",
      "metadata": {
        "id": "OwuxHmxllTwN"
      },
      "source": [
        "##Functions & Modules"
      ]
    },
    {
      "cell_type": "markdown",
      "metadata": {
        "id": "EMtDBH2Xe6kR"
      },
      "source": [
        "**Functions**\n",
        "\n",
        "In addition to using pre-defined functions like range() or print(), you can create your own functions by using the def statement. You have to define functions before they are called! This is especially useful, if you want to do similar operations again and again.\n",
        "\n",
        "*Try for yourself and build a function \"quattro_hello\" which prints \"hello\" four times.*\n"
      ]
    },
    {
      "cell_type": "code",
      "metadata": {
        "id": "pHnpri3gHXV8"
      },
      "source": [
        "def quattro_hello():\n",
        "  # build a proper loop to print your output four times \n",
        "  for i in range(1,5): \n",
        "    print (\"hello\")\n"
      ],
      "execution_count": 70,
      "outputs": []
    },
    {
      "cell_type": "markdown",
      "metadata": {
        "id": "aDR8mvcz-q1e"
      },
      "source": [
        "*Now call your function and see if it prints 'hello' three times:*"
      ]
    },
    {
      "cell_type": "code",
      "metadata": {
        "id": "Z8N9zB0V8jq7",
        "colab": {
          "base_uri": "https://localhost:8080/",
          "height": 0
        },
        "outputId": "b2affd7d-d8c8-4b87-c1f6-579aa40eee25"
      },
      "source": [
        "quattro_hello()\n",
        "#Bemerkung: in the task it says three times? wasn't it supposed to call the function four times? ^^"
      ],
      "execution_count": 72,
      "outputs": [
        {
          "output_type": "stream",
          "name": "stdout",
          "text": [
            "hello\n",
            "hello\n",
            "hello\n",
            "hello\n"
          ]
        }
      ]
    },
    {
      "cell_type": "markdown",
      "metadata": {
        "id": "mzUjE-zrHiu6"
      },
      "source": [
        "It is also possible to define a function that takes an argument. \n",
        "\n",
        "*Please change the following code to build a function that prints a given text and adds a question mark:*\n",
        "\n"
      ]
    },
    {
      "cell_type": "code",
      "metadata": {
        "id": "3qJbedzsHyTE",
        "colab": {
          "base_uri": "https://localhost:8080/",
          "height": 0
        },
        "outputId": "1de92ce1-ac71-40bd-9a04-0f82eb799615"
      },
      "source": [
        "def hello_function (str):\n",
        "  print (str + \"?\")\n",
        "\n",
        "hello_function(\"HI\")\n",
        "hello_function(\"What do you want\")"
      ],
      "execution_count": 80,
      "outputs": [
        {
          "output_type": "stream",
          "name": "stdout",
          "text": [
            "HI?\n",
            "What do you want?\n"
          ]
        }
      ]
    },
    {
      "cell_type": "markdown",
      "metadata": {
        "id": "K5e3PBnT9G0o"
      },
      "source": [
        "**<strong><font color='blue'> Side Note:**  Python can take any form of object as input to a function AND (almost) everything in Python is an object !! </font></strong>\n",
        "\n",
        "\n",
        "\n",
        "\n",
        "\n",
        "<img src=\"https://miro.medium.com/max/625/1*mPpNrH_b3DEd0HiljDqMkw.png\" >\n",
        "\n"
      ]
    },
    {
      "cell_type": "markdown",
      "metadata": {
        "id": "V5kSE42tJNkw"
      },
      "source": [
        "*And 2 arguments (develop a code to get a result of 16):*"
      ]
    },
    {
      "cell_type": "code",
      "metadata": {
        "id": "tNiEftMNJzDD",
        "colab": {
          "base_uri": "https://localhost:8080/",
          "height": 0
        },
        "outputId": "adb59b77-5d19-4b99-d047-2cc06137c1d2"
      },
      "source": [
        "def print_sum(a,b):\n",
        "  print(a + b)\n",
        "\n",
        "print_sum(5,11)\n",
        "#it was (6,11) before that - perhaps a mistake in the task?"
      ],
      "execution_count": 84,
      "outputs": [
        {
          "output_type": "stream",
          "name": "stdout",
          "text": [
            "16\n"
          ]
        }
      ]
    },
    {
      "cell_type": "markdown",
      "metadata": {
        "id": "oMgTXZFfK94l"
      },
      "source": [
        "*Fill in the ... to define a function that takes two arguments and prints their multiplication:*"
      ]
    },
    {
      "cell_type": "code",
      "metadata": {
        "id": "8xBfautGKOid",
        "colab": {
          "base_uri": "https://localhost:8080/",
          "height": 0
        },
        "outputId": "a5570fc5-a9e5-4bbe-be94-e436fcb6f67f"
      },
      "source": [
        "def print_mult(x,y):\n",
        "  print(x * y)\n",
        "print_mult(2,2)"
      ],
      "execution_count": 85,
      "outputs": [
        {
          "output_type": "stream",
          "name": "stdout",
          "text": [
            "4\n"
          ]
        }
      ]
    },
    {
      "cell_type": "markdown",
      "metadata": {
        "id": "-caDGUcZLO9j"
      },
      "source": [
        "*Fill in the ... to define a function that prints whether the first given paramter is greater or equal than the second paramter - or not:*"
      ]
    },
    {
      "cell_type": "code",
      "metadata": {
        "id": "OixS1ZvgAPJk",
        "colab": {
          "base_uri": "https://localhost:8080/",
          "height": 0
        },
        "outputId": "bf18de75-163b-4e56-b637-002aa4dbe1b5"
      },
      "source": [
        "def compare(x, y):\n",
        "  if x>=y:\n",
        "    print(\"The first given parameter is greater or equal than the second one.\")\n",
        "  else:\n",
        "    print(\"The first given parameter is not greater or equal than the second one.\")\n",
        "\n",
        "compare(3,3)"
      ],
      "execution_count": 93,
      "outputs": [
        {
          "output_type": "stream",
          "name": "stdout",
          "text": [
            "The first given parameter is greater or equal than the second one.\n"
          ]
        }
      ]
    },
    {
      "cell_type": "markdown",
      "metadata": {
        "id": "lks5vCIQgFBR"
      },
      "source": [
        "**Modules & Libraries**\n",
        "\n",
        "Modules refer to a file containing Python functions. A file containing Python code, for example: example.py, is called a module, and its module name would be example. The basic way to use a mdule is to add import *some_module_name* at the top of your code, and then using *some_module_name*.var to access functions and values with the name var in the module. This allows you to access complex functions programmed by other people.\n",
        " \n"
      ]
    },
    {
      "cell_type": "markdown",
      "metadata": {
        "id": "SV5FevBtl459"
      },
      "source": [
        "*Please import a fitting module and generate 5 random numbers from the interval [0,10):*"
      ]
    },
    {
      "cell_type": "code",
      "metadata": {
        "id": "R1892agsAnxy",
        "colab": {
          "base_uri": "https://localhost:8080/",
          "height": 0
        },
        "outputId": "4508348d-f770-4fb8-ea34-e830a5f76d21"
      },
      "source": [
        "import random\n",
        "\n",
        "for i in range(5): \n",
        "  #generating random float numbers in the interval\n",
        "  value = random.uniform(0,10)\n",
        "  print(value)"
      ],
      "execution_count": 102,
      "outputs": [
        {
          "output_type": "stream",
          "name": "stdout",
          "text": [
            "6.666783444456512\n",
            "6.633726526465891\n",
            "3.9875734855696465\n",
            "1.7121216582723375\n",
            "0.18195773099294987\n"
          ]
        }
      ]
    },
    {
      "cell_type": "markdown",
      "metadata": {
        "id": "pvTTfdOUm96f"
      },
      "source": [
        "*Please import only the pi constant from the respective module and print pi:*"
      ]
    },
    {
      "cell_type": "code",
      "metadata": {
        "id": "Mfxt3G-Ym-wd",
        "colab": {
          "base_uri": "https://localhost:8080/",
          "height": 0
        },
        "outputId": "fb1fc5dc-fc33-4b15-acd8-56485944bb0b"
      },
      "source": [
        "from math import pi\n",
        "\n",
        "print(pi)"
      ],
      "execution_count": 103,
      "outputs": [
        {
          "output_type": "stream",
          "name": "stdout",
          "text": [
            "3.141592653589793\n"
          ]
        }
      ]
    },
    {
      "cell_type": "markdown",
      "metadata": {
        "id": "wFCVUGx_Bqef"
      },
      "source": [
        "<img src =\"https://i.redd.it/37xqk9umycn31.jpg\" width=500 height=400>"
      ]
    },
    {
      "cell_type": "markdown",
      "metadata": {
        "id": "SpnHNXNvUVUY"
      },
      "source": [
        "**Pip Install**\n",
        "\n",
        "pip is a package management program for Python packages from the Python Package Index (PyPI). It allows you to install and manage software packages written in Python. Basically, it lets you install different modules.\n",
        "\n",
        "Before you learn how to install and import packages, the first step would be to actually make sure you've the correct Python verison installed in your system. \n",
        "\n",
        "*Fill in the ... to check this and the version installed:* "
      ]
    },
    {
      "cell_type": "code",
      "metadata": {
        "id": "UhimRI0A1QJ1",
        "colab": {
          "base_uri": "https://localhost:8080/",
          "height": 0
        },
        "outputId": "0e9ea383-f359-4527-e08f-ce2e6b719484"
      },
      "source": [
        "!python --version"
      ],
      "execution_count": 106,
      "outputs": [
        {
          "output_type": "stream",
          "name": "stdout",
          "text": [
            "Python 3.9.16\n"
          ]
        }
      ]
    },
    {
      "cell_type": "markdown",
      "metadata": {
        "id": "LZsAOsGNt6t2"
      },
      "source": [
        "*Please correct the following code to install the scenedetect package:*"
      ]
    },
    {
      "cell_type": "code",
      "metadata": {
        "id": "sezVDvVCA9HX",
        "colab": {
          "base_uri": "https://localhost:8080/",
          "height": 132
        },
        "outputId": "86ebe3b2-f0b3-4701-e3a9-f04b54419e56"
      },
      "source": [
        "import scenedetect # are you able to import the package? - No."
      ],
      "execution_count": 109,
      "outputs": [
        {
          "output_type": "error",
          "ename": "SyntaxError",
          "evalue": "ignored",
          "traceback": [
            "\u001b[0;36m  File \u001b[0;32m\"<ipython-input-109-eb67b1139e47>\"\u001b[0;36m, line \u001b[0;32m1\u001b[0m\n\u001b[0;31m    import pip scenedetect # are you able to import the package?\u001b[0m\n\u001b[0m               ^\u001b[0m\n\u001b[0;31mSyntaxError\u001b[0m\u001b[0;31m:\u001b[0m invalid syntax\n"
          ]
        }
      ]
    },
    {
      "cell_type": "code",
      "metadata": {
        "id": "ovmkymv7unbc",
        "colab": {
          "base_uri": "https://localhost:8080/",
          "height": 0
        },
        "outputId": "c31ecbb1-23b8-46f6-ccd3-6e1d9f02a7cd"
      },
      "source": [
        "pip install scenedetect #pip install the package"
      ],
      "execution_count": 111,
      "outputs": [
        {
          "output_type": "stream",
          "name": "stdout",
          "text": [
            "Looking in indexes: https://pypi.org/simple, https://us-python.pkg.dev/colab-wheels/public/simple/\n",
            "Collecting scenedetect\n",
            "  Downloading scenedetect-0.6.1-py3-none-any.whl (115 kB)\n",
            "\u001b[2K     \u001b[90m━━━━━━━━━━━━━━━━━━━━━━━━━━━━━━━━━━━━━━━\u001b[0m \u001b[32m115.1/115.1 KB\u001b[0m \u001b[31m3.5 MB/s\u001b[0m eta \u001b[36m0:00:00\u001b[0m\n",
            "\u001b[?25hRequirement already satisfied: appdirs in /usr/local/lib/python3.9/dist-packages (from scenedetect) (1.4.4)\n",
            "Requirement already satisfied: tqdm in /usr/local/lib/python3.9/dist-packages (from scenedetect) (4.65.0)\n",
            "Requirement already satisfied: Click in /usr/local/lib/python3.9/dist-packages (from scenedetect) (8.1.3)\n",
            "Requirement already satisfied: numpy in /usr/local/lib/python3.9/dist-packages (from scenedetect) (1.22.4)\n",
            "Installing collected packages: scenedetect\n",
            "Successfully installed scenedetect-0.6.1\n"
          ]
        }
      ]
    },
    {
      "cell_type": "code",
      "metadata": {
        "id": "dzrXbT3YBGNV"
      },
      "source": [
        "import scenedetect # you should be able to import it now! - Yes."
      ],
      "execution_count": 112,
      "outputs": []
    },
    {
      "cell_type": "markdown",
      "metadata": {
        "id": "qs52gjw6uzY8"
      },
      "source": [
        "Uninstalling/removing a package is very easy with pip. \n",
        "\n",
        "*Please uninstall scenedetect again:*"
      ]
    },
    {
      "cell_type": "code",
      "metadata": {
        "id": "1G_MJA3_vNuN",
        "colab": {
          "base_uri": "https://localhost:8080/",
          "height": 0
        },
        "outputId": "b762638a-560d-4167-efa0-94181e03f5ad"
      },
      "source": [
        "pip uninstall scenedetect"
      ],
      "execution_count": 113,
      "outputs": [
        {
          "output_type": "stream",
          "name": "stdout",
          "text": [
            "Found existing installation: scenedetect 0.6.1\n",
            "Uninstalling scenedetect-0.6.1:\n",
            "  Would remove:\n",
            "    /usr/local/bin/scenedetect\n",
            "    /usr/local/lib/python3.9/dist-packages/scenedetect-0.6.1.dist-info/*\n",
            "    /usr/local/lib/python3.9/dist-packages/scenedetect/*\n",
            "Proceed (Y/n)? y\n",
            "  Successfully uninstalled scenedetect-0.6.1\n"
          ]
        }
      ]
    },
    {
      "cell_type": "markdown",
      "metadata": {
        "id": "-Rh3-Vt9Nev9"
      },
      "source": [
        "##Exceptions"
      ]
    },
    {
      "cell_type": "markdown",
      "metadata": {
        "id": "1RR8qzFXgkJh"
      },
      "source": [
        "**Exception and Exception Handling**"
      ]
    },
    {
      "cell_type": "markdown",
      "metadata": {
        "id": "qQamrW33vP7o"
      },
      "source": [
        "Exception is an event that occurs due to incorrect code or input. \n",
        "\n",
        "*Please generate a zero devision error:*"
      ]
    },
    {
      "cell_type": "code",
      "metadata": {
        "id": "Dr5Bfn-ev_FC",
        "colab": {
          "base_uri": "https://localhost:8080/",
          "height": 166
        },
        "outputId": "5cdfd9f8-1226-4e2a-9382-9ae2c4b57ccc"
      },
      "source": [
        "3/0"
      ],
      "execution_count": 114,
      "outputs": [
        {
          "output_type": "error",
          "ename": "ZeroDivisionError",
          "evalue": "ignored",
          "traceback": [
            "\u001b[0;31m---------------------------------------------------------------------------\u001b[0m",
            "\u001b[0;31mZeroDivisionError\u001b[0m                         Traceback (most recent call last)",
            "\u001b[0;32m<ipython-input-114-f6cc6d14333b>\u001b[0m in \u001b[0;36m<cell line: 1>\u001b[0;34m()\u001b[0m\n\u001b[0;32m----> 1\u001b[0;31m \u001b[0;36m3\u001b[0m\u001b[0;34m/\u001b[0m\u001b[0;36m0\u001b[0m\u001b[0;34m\u001b[0m\u001b[0;34m\u001b[0m\u001b[0m\n\u001b[0m",
            "\u001b[0;31mZeroDivisionError\u001b[0m: division by zero"
          ]
        }
      ]
    },
    {
      "cell_type": "markdown",
      "metadata": {
        "id": "7EcpGATAv_-m"
      },
      "source": [
        "*Please create a NameError:* "
      ]
    },
    {
      "cell_type": "code",
      "metadata": {
        "id": "VDMdlsJcxItH",
        "colab": {
          "base_uri": "https://localhost:8080/",
          "height": 184
        },
        "outputId": "697970fe-6be7-484a-b698-9282acc5a26d"
      },
      "source": [
        "x = y+1\n",
        "print(x)"
      ],
      "execution_count": 115,
      "outputs": [
        {
          "output_type": "error",
          "ename": "NameError",
          "evalue": "ignored",
          "traceback": [
            "\u001b[0;31m---------------------------------------------------------------------------\u001b[0m",
            "\u001b[0;31mNameError\u001b[0m                                 Traceback (most recent call last)",
            "\u001b[0;32m<ipython-input-115-ce69b4c4f0ab>\u001b[0m in \u001b[0;36m<cell line: 1>\u001b[0;34m()\u001b[0m\n\u001b[0;32m----> 1\u001b[0;31m \u001b[0mx\u001b[0m \u001b[0;34m=\u001b[0m \u001b[0my\u001b[0m\u001b[0;34m+\u001b[0m\u001b[0;36m1\u001b[0m\u001b[0;34m\u001b[0m\u001b[0;34m\u001b[0m\u001b[0m\n\u001b[0m\u001b[1;32m      2\u001b[0m \u001b[0mprint\u001b[0m\u001b[0;34m(\u001b[0m\u001b[0mx\u001b[0m\u001b[0;34m)\u001b[0m\u001b[0;34m\u001b[0m\u001b[0;34m\u001b[0m\u001b[0m\n",
            "\u001b[0;31mNameError\u001b[0m: name 'y' is not defined"
          ]
        }
      ]
    },
    {
      "cell_type": "markdown",
      "metadata": {
        "id": "CjSKE_T4xJO-"
      },
      "source": [
        "*Please generate a TypeError:*"
      ]
    },
    {
      "cell_type": "code",
      "metadata": {
        "id": "WNVtpN4mxSPV",
        "colab": {
          "base_uri": "https://localhost:8080/",
          "height": 184
        },
        "outputId": "339b7054-d94a-414d-feba-fa9751e10733"
      },
      "source": [
        "x = 'April April'\n",
        "y = x/2"
      ],
      "execution_count": 116,
      "outputs": [
        {
          "output_type": "error",
          "ename": "TypeError",
          "evalue": "ignored",
          "traceback": [
            "\u001b[0;31m---------------------------------------------------------------------------\u001b[0m",
            "\u001b[0;31mTypeError\u001b[0m                                 Traceback (most recent call last)",
            "\u001b[0;32m<ipython-input-116-f8564f967f80>\u001b[0m in \u001b[0;36m<cell line: 2>\u001b[0;34m()\u001b[0m\n\u001b[1;32m      1\u001b[0m \u001b[0mx\u001b[0m \u001b[0;34m=\u001b[0m \u001b[0;34m'April April'\u001b[0m\u001b[0;34m\u001b[0m\u001b[0;34m\u001b[0m\u001b[0m\n\u001b[0;32m----> 2\u001b[0;31m \u001b[0my\u001b[0m \u001b[0;34m=\u001b[0m \u001b[0mx\u001b[0m\u001b[0;34m/\u001b[0m\u001b[0;36m2\u001b[0m\u001b[0;34m\u001b[0m\u001b[0;34m\u001b[0m\u001b[0m\n\u001b[0m",
            "\u001b[0;31mTypeError\u001b[0m: unsupported operand type(s) for /: 'str' and 'int'"
          ]
        }
      ]
    },
    {
      "cell_type": "markdown",
      "metadata": {
        "id": "4pz8WKMMxWZf"
      },
      "source": [
        "*Please create a ValueError:*"
      ]
    },
    {
      "cell_type": "code",
      "metadata": {
        "id": "4PdQE07HCnBS",
        "colab": {
          "base_uri": "https://localhost:8080/",
          "height": 184
        },
        "outputId": "80b10deb-f734-41f0-dff7-1389cbe71517"
      },
      "source": [
        "x = int(\"Richard\")\n",
        "print(x)"
      ],
      "execution_count": 118,
      "outputs": [
        {
          "output_type": "error",
          "ename": "ValueError",
          "evalue": "ignored",
          "traceback": [
            "\u001b[0;31m---------------------------------------------------------------------------\u001b[0m",
            "\u001b[0;31mValueError\u001b[0m                                Traceback (most recent call last)",
            "\u001b[0;32m<ipython-input-118-ab0529157c9e>\u001b[0m in \u001b[0;36m<cell line: 1>\u001b[0;34m()\u001b[0m\n\u001b[0;32m----> 1\u001b[0;31m \u001b[0mx\u001b[0m \u001b[0;34m=\u001b[0m \u001b[0mint\u001b[0m\u001b[0;34m(\u001b[0m\u001b[0;34m\"Richard\"\u001b[0m\u001b[0;34m)\u001b[0m\u001b[0;34m\u001b[0m\u001b[0;34m\u001b[0m\u001b[0m\n\u001b[0m\u001b[1;32m      2\u001b[0m \u001b[0mprint\u001b[0m\u001b[0;34m(\u001b[0m\u001b[0mx\u001b[0m\u001b[0;34m)\u001b[0m\u001b[0;34m\u001b[0m\u001b[0;34m\u001b[0m\u001b[0m\n",
            "\u001b[0;31mValueError\u001b[0m: invalid literal for int() with base 10: 'Richard'"
          ]
        }
      ]
    },
    {
      "cell_type": "markdown",
      "metadata": {
        "id": "RjaaEpTMyB-y"
      },
      "source": [
        "To handle exceptions, and to execute further code despite occuring errors, you can use a try/except statement. \n",
        "\n",
        "*Please change the following code to print \"an error occured - but the interpreter continued\":*"
      ]
    },
    {
      "cell_type": "code",
      "metadata": {
        "id": "N7fSjbYFye3c",
        "colab": {
          "base_uri": "https://localhost:8080/",
          "height": 0
        },
        "outputId": "4267d5a1-fa58-411f-912e-86ea6d4c6dd1"
      },
      "source": [
        "try:\n",
        "  num1 = 7\n",
        "  num2 = 0\n",
        "  print(num1/num2)\n",
        "  print(\"calculation done\")\n",
        "except:\n",
        "  print (\"an error occured - but the interpreter continued\")"
      ],
      "execution_count": 120,
      "outputs": [
        {
          "output_type": "stream",
          "name": "stdout",
          "text": [
            "an error occured - but the interpreter continued\n"
          ]
        }
      ]
    },
    {
      "cell_type": "markdown",
      "metadata": {
        "id": "SSSAZzFFD3dW"
      },
      "source": [
        "<img src =\"https://img.devrant.com/devrant/rant/r_1200037_6jt6c.jpg\" width=500 height=300>"
      ]
    },
    {
      "cell_type": "markdown",
      "metadata": {
        "id": "KJxnVSYyVPOt"
      },
      "source": [
        "##Data Science Modules"
      ]
    },
    {
      "cell_type": "markdown",
      "metadata": {
        "id": "8pFuDtAcVWWE"
      },
      "source": [
        "**Numpy**\n",
        "\n",
        "*Please fill in the ... to learn more about Numpy:*\n"
      ]
    },
    {
      "cell_type": "markdown",
      "metadata": {
        "id": "Q4KPTtl2OtfM"
      },
      "source": [
        "NumPy is a program library for the programming language Python. NumPy extends Python with **tools** for scientific computing and **mathematical** calculations. The library enables efficient computing with  vectors, **matrices** and multidimensional **arrays**."
      ]
    },
    {
      "cell_type": "markdown",
      "metadata": {
        "id": "A1yba1TJbiNI"
      },
      "source": [
        "*Please import Numpy as np:* "
      ]
    },
    {
      "cell_type": "code",
      "metadata": {
        "id": "BENNc8B4T2rb"
      },
      "source": [
        "import numpy as np "
      ],
      "execution_count": 122,
      "outputs": []
    },
    {
      "cell_type": "markdown",
      "metadata": {
        "id": "rRYIaE6Tb0WF"
      },
      "source": [
        "*Please define a list 'cvalues' with different temperatures:*"
      ]
    },
    {
      "cell_type": "code",
      "metadata": {
        "id": "2eHWb-Dyb9b5"
      },
      "source": [
        " cvalues = [20.1, 20.8, 21.9, 22.5, 22.7, \n",
        "           21.8, 21.3, 20.9, 20.1]"
      ],
      "execution_count": 123,
      "outputs": []
    },
    {
      "cell_type": "markdown",
      "metadata": {
        "id": "GB0td9p2w5Au"
      },
      "source": [
        "*From our list 'cvalues' we now create a one-dimensional NumPy array, so please change the following code:*"
      ]
    },
    {
      "cell_type": "code",
      "metadata": {
        "id": "16eyb_-TcC1J",
        "colab": {
          "base_uri": "https://localhost:8080/",
          "height": 0
        },
        "outputId": "87fd0bce-18a7-4e84-db45-ad90153e280b"
      },
      "source": [
        "C = np.array (cvalues)\n",
        "print (C, type(C))"
      ],
      "execution_count": 124,
      "outputs": [
        {
          "output_type": "stream",
          "name": "stdout",
          "text": [
            "[20.1 20.8 21.9 22.5 22.7 21.8 21.3 20.9 20.1] <class 'numpy.ndarray'>\n"
          ]
        }
      ]
    },
    {
      "cell_type": "markdown",
      "metadata": {
        "id": "ti-xqhLVxUk9"
      },
      "source": [
        "*Now let us assume that we need the values in degrees Fahrenheit instead of degrees Celsius.\n",
        "This can be done very easily with a NumPy array. The solution of our problem are simple scalar operations. Let's do this:*"
      ]
    },
    {
      "cell_type": "code",
      "metadata": {
        "id": "XR28FF30cWOL",
        "colab": {
          "base_uri": "https://localhost:8080/",
          "height": 0
        },
        "outputId": "830d9a50-10d6-4697-9a71-7c233708fa0f"
      },
      "source": [
        "print(C * 1.8 + 32)"
      ],
      "execution_count": 126,
      "outputs": [
        {
          "output_type": "stream",
          "name": "stdout",
          "text": [
            "[68.18 69.44 71.42 72.5  72.86 71.24 70.34 69.62 68.18]\n"
          ]
        }
      ]
    },
    {
      "cell_type": "markdown",
      "metadata": {
        "id": "qFIvnXHOyEZC"
      },
      "source": [
        "*Please find out what the shape of 'C' is:*"
      ]
    },
    {
      "cell_type": "code",
      "metadata": {
        "id": "5qqmqIrvdYWP",
        "colab": {
          "base_uri": "https://localhost:8080/",
          "height": 0
        },
        "outputId": "ac7f0cc9-0509-46a1-d19a-4d4bf542a5e3"
      },
      "source": [
        "print(\"shape of array:\", C.shape)"
      ],
      "execution_count": 129,
      "outputs": [
        {
          "output_type": "stream",
          "name": "stdout",
          "text": [
            "shape of array: (9,)\n"
          ]
        }
      ]
    },
    {
      "cell_type": "markdown",
      "metadata": {
        "id": "wL-SPKbVE9fD"
      },
      "source": [
        "*Try to create a numpy array with the shape 4x2 (4 rows, 2 columns), containing only zeros*"
      ]
    },
    {
      "cell_type": "code",
      "metadata": {
        "id": "Ldf8EhxHE8v6",
        "colab": {
          "base_uri": "https://localhost:8080/",
          "height": 0
        },
        "outputId": "321e2a16-be6b-4e7c-994e-e0a91c1a3838"
      },
      "source": [
        "numpyzeros = np.zeros((4, 2))\n",
        "print(numpyzeros)"
      ],
      "execution_count": 131,
      "outputs": [
        {
          "output_type": "stream",
          "name": "stdout",
          "text": [
            "[[0. 0.]\n",
            " [0. 0.]\n",
            " [0. 0.]\n",
            " [0. 0.]]\n"
          ]
        }
      ]
    },
    {
      "cell_type": "markdown",
      "metadata": {
        "id": "w_wm9FcxVd8T"
      },
      "source": [
        "**Pandas**\n",
        "\n",
        "pandas is a program library for the Python programming language that provides tools for data management and analysis. In particular, it contains data structures and operators for accessing tables and time series.\n",
        "\n"
      ]
    },
    {
      "cell_type": "markdown",
      "metadata": {
        "id": "cMs0xplyHutE"
      },
      "source": [
        "*Please import pandas as pd and check the version:*"
      ]
    },
    {
      "cell_type": "code",
      "metadata": {
        "id": "EvlvkfJvH8NK",
        "colab": {
          "base_uri": "https://localhost:8080/",
          "height": 0
        },
        "outputId": "d0d6cb1e-f9b2-4f63-9dc4-5d2076a01c4e"
      },
      "source": [
        "import pandas as pd\n",
        "print(pd.__version__)"
      ],
      "execution_count": 132,
      "outputs": [
        {
          "output_type": "stream",
          "name": "stdout",
          "text": [
            "1.4.4\n"
          ]
        }
      ]
    },
    {
      "cell_type": "markdown",
      "metadata": {
        "id": "mRYZ8zxhIvMV"
      },
      "source": [
        "*Create a pandas series from a list with strings, a numpy array with integers and a dictionary with the combination of your list and your numpy array:*"
      ]
    },
    {
      "cell_type": "code",
      "metadata": {
        "id": "pzGh2XV4oIAZ",
        "colab": {
          "base_uri": "https://localhost:8080/",
          "height": 0
        },
        "outputId": "04bee78c-bfe5-4bf0-d070-a8374d560bad"
      },
      "source": [
        "# Inputs\n",
        "import pandas as pd\n",
        "import numpy as np\n",
        "mylist = [\"Chips\", \"Nutella\", \"Salami\"]\n",
        "myarr = np.array([10, 20, 30])\n",
        "mydict = dict(zip(mylist, myarr))\n",
        "\n",
        "# Solution\n",
        "ser1 = pd.Series(mylist)\n",
        "ser2 = pd.Series(myarr)\n",
        "ser3 = pd.Series(mydict)\n",
        "print(ser1.head(), \"\\n\") #added the \\n operator to make it easier to read\n",
        "print(ser2.head(), \"\\n\")\n",
        "print(ser3.head(), \"\\n\")"
      ],
      "execution_count": 143,
      "outputs": [
        {
          "output_type": "stream",
          "name": "stdout",
          "text": [
            "0      Chips\n",
            "1    Nutella\n",
            "2     Salami\n",
            "dtype: object \n",
            "\n",
            "0    10\n",
            "1    20\n",
            "2    30\n",
            "dtype: int64 \n",
            "\n",
            "Chips      10\n",
            "Nutella    20\n",
            "Salami     30\n",
            "dtype: int64 \n",
            "\n"
          ]
        }
      ]
    },
    {
      "cell_type": "markdown",
      "metadata": {
        "id": "LJ3KXj28sUCS"
      },
      "source": [
        "**<strong><font color='blue'> Side Note:** Note that a Pandas Series consists of an index (left column) and values (right column). This is important for accessing values.</font></strong>"
      ]
    },
    {
      "cell_type": "markdown",
      "metadata": {
        "id": "4WXvLc8CJJ6O"
      },
      "source": [
        "*Now create a 4x4 DataFrame with random integer values:*\n",
        "\n",
        "---\n",
        "\n"
      ]
    },
    {
      "cell_type": "code",
      "metadata": {
        "id": "N8PIWzFpJoLI",
        "colab": {
          "base_uri": "https://localhost:8080/",
          "height": 0
        },
        "outputId": "45a5582b-4498-4e45-93b0-6e0c0e17c2fb"
      },
      "source": [
        "# create a numpy 4x4 numpy matrix with random integer values\n",
        "myarr = (np.random.rand(4,4)*10).astype(int)\n",
        "\n",
        "df = pd.DataFrame(myarr)\n",
        "print(df)"
      ],
      "execution_count": 151,
      "outputs": [
        {
          "output_type": "stream",
          "name": "stdout",
          "text": [
            "   0  1  2  3\n",
            "0  0  1  8  0\n",
            "1  2  6  8  7\n",
            "2  3  8  3  1\n",
            "3  1  5  4  5\n"
          ]
        }
      ]
    },
    {
      "cell_type": "markdown",
      "metadata": {
        "id": "ppVXphb1Le4l"
      },
      "source": [
        "Let's learn something about indexing and slicing. \n",
        "\n",
        " **.loc()** has multiple access methods like:\n",
        "\n",
        "- A single scalar label\n",
        "- A list of labels\n",
        "- A slice object\n",
        "- A Boolean array\n",
        "\n",
        "**loc** takes two single/ list/ range operator separated by ','. The first one indicates the row and the second one indicates columns.\n",
        "\n",
        "*Please complete all the tasks:*"
      ]
    },
    {
      "cell_type": "code",
      "metadata": {
        "id": "JW58HwihvfSt",
        "colab": {
          "base_uri": "https://localhost:8080/",
          "height": 0
        },
        "outputId": "7568162e-9405-482f-c752-af09a1980188"
      },
      "source": [
        "#import the pandas library as pd\n",
        "import pandas as pd\n",
        "import numpy as np\n",
        "\n",
        "# you may reuse myarr from above, otherwise please recreate a 4x4 numy array\n",
        "df = pd.DataFrame(myarr,index = ['a','b','c','d'], columns = ['A', 'B', 'C', 'D'])\n",
        "\n",
        "#select the value in row b, columnd C\n",
        "print(df.loc['b','C'], \"\\n\") #used \\n to make it easier to read\n",
        "\n",
        "#select all values in row b\n",
        "print(df.loc['b', :], \"\\n\")\n",
        "\n",
        "#select all values in from row b to d, and column A to C\n",
        "print(df.loc['b':'d','A':'C'])"
      ],
      "execution_count": 156,
      "outputs": [
        {
          "output_type": "stream",
          "name": "stdout",
          "text": [
            "8 \n",
            "\n",
            "A    2\n",
            "B    6\n",
            "C    8\n",
            "D    7\n",
            "Name: b, dtype: int64 \n",
            "\n",
            "   A  B  C\n",
            "b  2  6  8\n",
            "c  3  8  3\n",
            "d  1  5  4\n"
          ]
        }
      ]
    },
    {
      "cell_type": "markdown",
      "metadata": {
        "id": "WiHop8xU_bLo"
      },
      "source": [
        "*You can use boolean logic to slice dataframes as well. This is extremely handy in many situations. Please complete the tasks given in the comments. **Do not manually select the correct column (by just stating column X and row y)**:*"
      ]
    },
    {
      "cell_type": "code",
      "metadata": {
        "id": "wgmuagXd_bVw",
        "colab": {
          "base_uri": "https://localhost:8080/",
          "height": 0
        },
        "outputId": "d0792519-deb3-4e36-b47a-fd4d2bba2848"
      },
      "source": [
        "# select all rows with a positive value in the 'A' column\n",
        "print (df.loc[df['A'] > 0, 'A'], \"\\n\") #make it easier to read by \\n\n",
        "\n",
        "# select all columns with a positive value in the 'b' row\n",
        "print (df.loc['b', df.loc['b'] > 0])"
      ],
      "execution_count": 180,
      "outputs": [
        {
          "output_type": "stream",
          "name": "stdout",
          "text": [
            "b    2\n",
            "c    3\n",
            "d    1\n",
            "Name: A, dtype: int64 \n",
            "\n",
            "A    2\n",
            "B    6\n",
            "C    8\n",
            "D    7\n",
            "Name: b, dtype: int64\n"
          ]
        }
      ]
    },
    {
      "cell_type": "markdown",
      "metadata": {
        "id": "VrxtswA2Mupp"
      },
      "source": [
        "Now we are working with **.iloc()**. Pandas provide various methods in order to get purely integer based indexing. Like python and numpy, these are 0-based indexing.\n",
        "\n",
        "The various access methods are as follows:\n",
        "- An Integer\n",
        "- A list of integers\n",
        "- A range of values\n",
        "\n",
        "*Tap around and change the ... to complete the tasks in the comments:*"
      ]
    },
    {
      "cell_type": "code",
      "metadata": {
        "id": "GeSB-zAiMwGt",
        "colab": {
          "base_uri": "https://localhost:8080/",
          "height": 0
        },
        "outputId": "01aba4a7-7e82-42bd-ec04-06fbd47698c1"
      },
      "source": [
        "# you may reuse df, otherwise, please create a new 4 by 4 dataframe\n",
        "\n",
        "# print the first 3 columns using 'i' and the loop\n",
        "for i in range(3):\n",
        "  print(df.iloc[:, i])\n",
        "\n",
        "# print every second row using range\n",
        "for i in range(0, len(df), 2): #range defined by start,stop,step\n",
        "  print(df.iloc[i])"
      ],
      "execution_count": 184,
      "outputs": [
        {
          "output_type": "stream",
          "name": "stdout",
          "text": [
            "a    0\n",
            "b    2\n",
            "c    3\n",
            "d    1\n",
            "Name: A, dtype: int64\n",
            "a    1\n",
            "b    6\n",
            "c    8\n",
            "d    5\n",
            "Name: B, dtype: int64\n",
            "a    8\n",
            "b    8\n",
            "c    3\n",
            "d    4\n",
            "Name: C, dtype: int64\n",
            "A    0\n",
            "B    1\n",
            "C    8\n",
            "D    0\n",
            "Name: a, dtype: int64\n",
            "A    3\n",
            "B    8\n",
            "C    3\n",
            "D    1\n",
            "Name: c, dtype: int64\n"
          ]
        }
      ]
    },
    {
      "cell_type": "markdown",
      "metadata": {
        "id": "l5yZGuq6RDy4"
      },
      "source": [
        "You can read existing tables with pandas, to work with them in Python. The most common table format is csv. \n",
        "\n",
        "*Please download the following file (https://drive.google.com/file/d/1rabckY6MNXi3kGEDJ2KIXGB1rsmdwbEr/view?usp=sharing), upload it to your Colab environment and change the path to read it:*\n"
      ]
    },
    {
      "cell_type": "code",
      "metadata": {
        "id": "5Ow2FxtgQers",
        "colab": {
          "base_uri": "https://localhost:8080/",
          "height": 0
        },
        "outputId": "61e5381d-2c6a-453f-fd34-e6b4d0e56903"
      },
      "source": [
        "import pandas as pd\n",
        "df = pd.read_csv('cars.csv')\n",
        "print(df)"
      ],
      "execution_count": 202,
      "outputs": [
        {
          "output_type": "stream",
          "name": "stdout",
          "text": [
            "         brand   model   mileage  year of construction  horsepower  \\\n",
            "0          BMW     520   40000.0                2017.0         190   \n",
            "1        Volvo    XC60   42656.0                2017.0         190   \n",
            "2        Volvo    XC90  111183.0                2015.0         224   \n",
            "3         Audi      Q3   42922.0                2016.0         184   \n",
            "4         Seat   Ibiza  138000.0                2008.0          69   \n",
            "5   Volkswagen  Tiguan   13189.0                2018.0         179   \n",
            "6   Volkswagen  Touran   45000.0                2014.0         140   \n",
            "7   Volkswagen  Passat     100.0                2018.0          67   \n",
            "8         Audi      A3  345000.0                2006.0         170   \n",
            "9        Volvo     V50  260000.0                2008.0         109   \n",
            "10     Renault  Scenic    2000.0                2018.0         140   \n",
            "11     Renault    Clio    2000.0                2018.0          90   \n",
            "12         Kia     Rio       4.0                   NaN          84   \n",
            "13     Peugeot     307   52750.0                2004.0         109   \n",
            "14         BMW     218   42346.0                2015.0         150   \n",
            "15  Volkswagen   Caddy  156600.0                2007.0         105   \n",
            "16        Fiat     500    6917.0                2013.0          69   \n",
            "17       Mazda       6       NaN                   NaN         194   \n",
            "18       Mazda    MX-5       NaN                   NaN         132   \n",
            "19  Volkswagen      T6   26537.0                2017.0         204   \n",
            "\n",
            "     condition    fuel  fuel consumption    price  \n",
            "0         used  diesel               4.0  46900.0  \n",
            "1         used  diesel               4.0  32930.0  \n",
            "2         used  diesel               5.0  40930.0  \n",
            "3         used  diesel               5.0  30990.0  \n",
            "4         used  petrol               5.0   3200.0  \n",
            "5         used  petrol               7.0  39930.0  \n",
            "6         used  petrol               7.0  17000.0  \n",
            "7         used  petrol               4.0  10240.0  \n",
            "8         used  diesel               5.0   3550.0  \n",
            "9         used  diesel               5.0      NaN  \n",
            "10         new  petrol               5.0  24990.0  \n",
            "11  almost new  petrol               5.0      NaN  \n",
            "12         new  petrol               5.0  14250.0  \n",
            "13        used  petrol               NaN      NaN  \n",
            "14        used  diesel               4.0  21950.0  \n",
            "15        used  diesel               6.0   2890.0  \n",
            "16        used  petrol               5.0   9450.0  \n",
            "17         new  petrol               6.0  34190.0  \n",
            "18         new  petrol               6.0  23190.0  \n",
            "19  almost new  diesel               7.0  60990.0  \n"
          ]
        }
      ]
    },
    {
      "cell_type": "markdown",
      "metadata": {
        "id": "7B-Izk3RMSk3"
      },
      "source": [
        "*Let's change the Data a bit:*"
      ]
    },
    {
      "cell_type": "code",
      "metadata": {
        "id": "1nSbRxA1UetU",
        "colab": {
          "base_uri": "https://localhost:8080/",
          "height": 457
        },
        "outputId": "c12248e7-31cb-426b-b394-5a047e967589"
      },
      "source": [
        "# Delete the 'fuel consumption' column\n",
        "df = df.drop(columns=['fuel consumption'])\n",
        "\n",
        "# Delete all rows, where the price is not available \n",
        "df = df.dropna(subset=['price'])     #delete rows with a \"NaN\"\n",
        "\n",
        "# Let's only keep cars, with more than 100 PS\n",
        "df = df.loc[df['horsepower'] > 100]\n",
        "\n",
        "df # Let's see if the table looks good"
      ],
      "execution_count": 203,
      "outputs": [
        {
          "output_type": "execute_result",
          "data": {
            "text/plain": [
              "         brand   model   mileage  year of construction  horsepower  \\\n",
              "0          BMW     520   40000.0                2017.0         190   \n",
              "1        Volvo    XC60   42656.0                2017.0         190   \n",
              "2        Volvo    XC90  111183.0                2015.0         224   \n",
              "3         Audi      Q3   42922.0                2016.0         184   \n",
              "5   Volkswagen  Tiguan   13189.0                2018.0         179   \n",
              "6   Volkswagen  Touran   45000.0                2014.0         140   \n",
              "8         Audi      A3  345000.0                2006.0         170   \n",
              "10     Renault  Scenic    2000.0                2018.0         140   \n",
              "14         BMW     218   42346.0                2015.0         150   \n",
              "15  Volkswagen   Caddy  156600.0                2007.0         105   \n",
              "17       Mazda       6       NaN                   NaN         194   \n",
              "18       Mazda    MX-5       NaN                   NaN         132   \n",
              "19  Volkswagen      T6   26537.0                2017.0         204   \n",
              "\n",
              "     condition    fuel    price  \n",
              "0         used  diesel  46900.0  \n",
              "1         used  diesel  32930.0  \n",
              "2         used  diesel  40930.0  \n",
              "3         used  diesel  30990.0  \n",
              "5         used  petrol  39930.0  \n",
              "6         used  petrol  17000.0  \n",
              "8         used  diesel   3550.0  \n",
              "10         new  petrol  24990.0  \n",
              "14        used  diesel  21950.0  \n",
              "15        used  diesel   2890.0  \n",
              "17         new  petrol  34190.0  \n",
              "18         new  petrol  23190.0  \n",
              "19  almost new  diesel  60990.0  "
            ],
            "text/html": [
              "\n",
              "  <div id=\"df-8c93b6cc-3ebe-4bc9-8a6d-36b280bcd37a\">\n",
              "    <div class=\"colab-df-container\">\n",
              "      <div>\n",
              "<style scoped>\n",
              "    .dataframe tbody tr th:only-of-type {\n",
              "        vertical-align: middle;\n",
              "    }\n",
              "\n",
              "    .dataframe tbody tr th {\n",
              "        vertical-align: top;\n",
              "    }\n",
              "\n",
              "    .dataframe thead th {\n",
              "        text-align: right;\n",
              "    }\n",
              "</style>\n",
              "<table border=\"1\" class=\"dataframe\">\n",
              "  <thead>\n",
              "    <tr style=\"text-align: right;\">\n",
              "      <th></th>\n",
              "      <th>brand</th>\n",
              "      <th>model</th>\n",
              "      <th>mileage</th>\n",
              "      <th>year of construction</th>\n",
              "      <th>horsepower</th>\n",
              "      <th>condition</th>\n",
              "      <th>fuel</th>\n",
              "      <th>price</th>\n",
              "    </tr>\n",
              "  </thead>\n",
              "  <tbody>\n",
              "    <tr>\n",
              "      <th>0</th>\n",
              "      <td>BMW</td>\n",
              "      <td>520</td>\n",
              "      <td>40000.0</td>\n",
              "      <td>2017.0</td>\n",
              "      <td>190</td>\n",
              "      <td>used</td>\n",
              "      <td>diesel</td>\n",
              "      <td>46900.0</td>\n",
              "    </tr>\n",
              "    <tr>\n",
              "      <th>1</th>\n",
              "      <td>Volvo</td>\n",
              "      <td>XC60</td>\n",
              "      <td>42656.0</td>\n",
              "      <td>2017.0</td>\n",
              "      <td>190</td>\n",
              "      <td>used</td>\n",
              "      <td>diesel</td>\n",
              "      <td>32930.0</td>\n",
              "    </tr>\n",
              "    <tr>\n",
              "      <th>2</th>\n",
              "      <td>Volvo</td>\n",
              "      <td>XC90</td>\n",
              "      <td>111183.0</td>\n",
              "      <td>2015.0</td>\n",
              "      <td>224</td>\n",
              "      <td>used</td>\n",
              "      <td>diesel</td>\n",
              "      <td>40930.0</td>\n",
              "    </tr>\n",
              "    <tr>\n",
              "      <th>3</th>\n",
              "      <td>Audi</td>\n",
              "      <td>Q3</td>\n",
              "      <td>42922.0</td>\n",
              "      <td>2016.0</td>\n",
              "      <td>184</td>\n",
              "      <td>used</td>\n",
              "      <td>diesel</td>\n",
              "      <td>30990.0</td>\n",
              "    </tr>\n",
              "    <tr>\n",
              "      <th>5</th>\n",
              "      <td>Volkswagen</td>\n",
              "      <td>Tiguan</td>\n",
              "      <td>13189.0</td>\n",
              "      <td>2018.0</td>\n",
              "      <td>179</td>\n",
              "      <td>used</td>\n",
              "      <td>petrol</td>\n",
              "      <td>39930.0</td>\n",
              "    </tr>\n",
              "    <tr>\n",
              "      <th>6</th>\n",
              "      <td>Volkswagen</td>\n",
              "      <td>Touran</td>\n",
              "      <td>45000.0</td>\n",
              "      <td>2014.0</td>\n",
              "      <td>140</td>\n",
              "      <td>used</td>\n",
              "      <td>petrol</td>\n",
              "      <td>17000.0</td>\n",
              "    </tr>\n",
              "    <tr>\n",
              "      <th>8</th>\n",
              "      <td>Audi</td>\n",
              "      <td>A3</td>\n",
              "      <td>345000.0</td>\n",
              "      <td>2006.0</td>\n",
              "      <td>170</td>\n",
              "      <td>used</td>\n",
              "      <td>diesel</td>\n",
              "      <td>3550.0</td>\n",
              "    </tr>\n",
              "    <tr>\n",
              "      <th>10</th>\n",
              "      <td>Renault</td>\n",
              "      <td>Scenic</td>\n",
              "      <td>2000.0</td>\n",
              "      <td>2018.0</td>\n",
              "      <td>140</td>\n",
              "      <td>new</td>\n",
              "      <td>petrol</td>\n",
              "      <td>24990.0</td>\n",
              "    </tr>\n",
              "    <tr>\n",
              "      <th>14</th>\n",
              "      <td>BMW</td>\n",
              "      <td>218</td>\n",
              "      <td>42346.0</td>\n",
              "      <td>2015.0</td>\n",
              "      <td>150</td>\n",
              "      <td>used</td>\n",
              "      <td>diesel</td>\n",
              "      <td>21950.0</td>\n",
              "    </tr>\n",
              "    <tr>\n",
              "      <th>15</th>\n",
              "      <td>Volkswagen</td>\n",
              "      <td>Caddy</td>\n",
              "      <td>156600.0</td>\n",
              "      <td>2007.0</td>\n",
              "      <td>105</td>\n",
              "      <td>used</td>\n",
              "      <td>diesel</td>\n",
              "      <td>2890.0</td>\n",
              "    </tr>\n",
              "    <tr>\n",
              "      <th>17</th>\n",
              "      <td>Mazda</td>\n",
              "      <td>6</td>\n",
              "      <td>NaN</td>\n",
              "      <td>NaN</td>\n",
              "      <td>194</td>\n",
              "      <td>new</td>\n",
              "      <td>petrol</td>\n",
              "      <td>34190.0</td>\n",
              "    </tr>\n",
              "    <tr>\n",
              "      <th>18</th>\n",
              "      <td>Mazda</td>\n",
              "      <td>MX-5</td>\n",
              "      <td>NaN</td>\n",
              "      <td>NaN</td>\n",
              "      <td>132</td>\n",
              "      <td>new</td>\n",
              "      <td>petrol</td>\n",
              "      <td>23190.0</td>\n",
              "    </tr>\n",
              "    <tr>\n",
              "      <th>19</th>\n",
              "      <td>Volkswagen</td>\n",
              "      <td>T6</td>\n",
              "      <td>26537.0</td>\n",
              "      <td>2017.0</td>\n",
              "      <td>204</td>\n",
              "      <td>almost new</td>\n",
              "      <td>diesel</td>\n",
              "      <td>60990.0</td>\n",
              "    </tr>\n",
              "  </tbody>\n",
              "</table>\n",
              "</div>\n",
              "      <button class=\"colab-df-convert\" onclick=\"convertToInteractive('df-8c93b6cc-3ebe-4bc9-8a6d-36b280bcd37a')\"\n",
              "              title=\"Convert this dataframe to an interactive table.\"\n",
              "              style=\"display:none;\">\n",
              "        \n",
              "  <svg xmlns=\"http://www.w3.org/2000/svg\" height=\"24px\"viewBox=\"0 0 24 24\"\n",
              "       width=\"24px\">\n",
              "    <path d=\"M0 0h24v24H0V0z\" fill=\"none\"/>\n",
              "    <path d=\"M18.56 5.44l.94 2.06.94-2.06 2.06-.94-2.06-.94-.94-2.06-.94 2.06-2.06.94zm-11 1L8.5 8.5l.94-2.06 2.06-.94-2.06-.94L8.5 2.5l-.94 2.06-2.06.94zm10 10l.94 2.06.94-2.06 2.06-.94-2.06-.94-.94-2.06-.94 2.06-2.06.94z\"/><path d=\"M17.41 7.96l-1.37-1.37c-.4-.4-.92-.59-1.43-.59-.52 0-1.04.2-1.43.59L10.3 9.45l-7.72 7.72c-.78.78-.78 2.05 0 2.83L4 21.41c.39.39.9.59 1.41.59.51 0 1.02-.2 1.41-.59l7.78-7.78 2.81-2.81c.8-.78.8-2.07 0-2.86zM5.41 20L4 18.59l7.72-7.72 1.47 1.35L5.41 20z\"/>\n",
              "  </svg>\n",
              "      </button>\n",
              "      \n",
              "  <style>\n",
              "    .colab-df-container {\n",
              "      display:flex;\n",
              "      flex-wrap:wrap;\n",
              "      gap: 12px;\n",
              "    }\n",
              "\n",
              "    .colab-df-convert {\n",
              "      background-color: #E8F0FE;\n",
              "      border: none;\n",
              "      border-radius: 50%;\n",
              "      cursor: pointer;\n",
              "      display: none;\n",
              "      fill: #1967D2;\n",
              "      height: 32px;\n",
              "      padding: 0 0 0 0;\n",
              "      width: 32px;\n",
              "    }\n",
              "\n",
              "    .colab-df-convert:hover {\n",
              "      background-color: #E2EBFA;\n",
              "      box-shadow: 0px 1px 2px rgba(60, 64, 67, 0.3), 0px 1px 3px 1px rgba(60, 64, 67, 0.15);\n",
              "      fill: #174EA6;\n",
              "    }\n",
              "\n",
              "    [theme=dark] .colab-df-convert {\n",
              "      background-color: #3B4455;\n",
              "      fill: #D2E3FC;\n",
              "    }\n",
              "\n",
              "    [theme=dark] .colab-df-convert:hover {\n",
              "      background-color: #434B5C;\n",
              "      box-shadow: 0px 1px 3px 1px rgba(0, 0, 0, 0.15);\n",
              "      filter: drop-shadow(0px 1px 2px rgba(0, 0, 0, 0.3));\n",
              "      fill: #FFFFFF;\n",
              "    }\n",
              "  </style>\n",
              "\n",
              "      <script>\n",
              "        const buttonEl =\n",
              "          document.querySelector('#df-8c93b6cc-3ebe-4bc9-8a6d-36b280bcd37a button.colab-df-convert');\n",
              "        buttonEl.style.display =\n",
              "          google.colab.kernel.accessAllowed ? 'block' : 'none';\n",
              "\n",
              "        async function convertToInteractive(key) {\n",
              "          const element = document.querySelector('#df-8c93b6cc-3ebe-4bc9-8a6d-36b280bcd37a');\n",
              "          const dataTable =\n",
              "            await google.colab.kernel.invokeFunction('convertToInteractive',\n",
              "                                                     [key], {});\n",
              "          if (!dataTable) return;\n",
              "\n",
              "          const docLinkHtml = 'Like what you see? Visit the ' +\n",
              "            '<a target=\"_blank\" href=https://colab.research.google.com/notebooks/data_table.ipynb>data table notebook</a>'\n",
              "            + ' to learn more about interactive tables.';\n",
              "          element.innerHTML = '';\n",
              "          dataTable['output_type'] = 'display_data';\n",
              "          await google.colab.output.renderOutput(dataTable, element);\n",
              "          const docLink = document.createElement('div');\n",
              "          docLink.innerHTML = docLinkHtml;\n",
              "          element.appendChild(docLink);\n",
              "        }\n",
              "      </script>\n",
              "    </div>\n",
              "  </div>\n",
              "  "
            ]
          },
          "metadata": {},
          "execution_count": 203
        }
      ]
    },
    {
      "cell_type": "markdown",
      "metadata": {
        "id": "5cPeqmMgNs1r"
      },
      "source": [
        "*Now, please save the dataframe as a new csv file*"
      ]
    },
    {
      "cell_type": "code",
      "metadata": {
        "id": "fS1ycn55NtFz"
      },
      "source": [
        "name = 'cars_new.csv'\n",
        "df.to_csv(name)"
      ],
      "execution_count": 209,
      "outputs": []
    },
    {
      "cell_type": "markdown",
      "metadata": {
        "id": "mjutWdU7VgJF"
      },
      "source": [
        "**Matplotlib**\n",
        "\n",
        "Matplotlib is a program library for the programming language Python, which allows to plot your data.\n",
        "\n",
        "<img src =\"https://miro.medium.com/max/1000/1*WACiczYwdWTnJ94mnizS4Q.jpeg\" width=500 height=300>\n",
        "\n"
      ]
    },
    {
      "cell_type": "markdown",
      "metadata": {
        "id": "yR-VrJyXpQnx"
      },
      "source": [
        "\n",
        "*Please generate a positive linear function and plot it using matplotlib:*"
      ]
    },
    {
      "cell_type": "code",
      "metadata": {
        "id": "jvNbwu8_yEEe",
        "colab": {
          "base_uri": "https://localhost:8080/",
          "height": 430
        },
        "outputId": "331b90ba-d38f-416d-a28b-b490cc1cdb72"
      },
      "source": [
        "import numpy as np\n",
        "import matplotlib.pyplot as plt \n",
        "a = np.linspace(0,1,10) # please create 10 evenly spaced numbes between 0 and 1 \n",
        "b = np.linspace(0,10,10) # please create 10 evenly spaced numbes between 0 and 10 \n",
        "plt.plot(a,b)\n",
        "plt.show()"
      ],
      "execution_count": 210,
      "outputs": [
        {
          "output_type": "display_data",
          "data": {
            "text/plain": [
              "<Figure size 640x480 with 1 Axes>"
            ],
            "image/png": "[encoded data removed]"
          },
          "metadata": {}
        }
      ]
    },
    {
      "cell_type": "markdown",
      "metadata": {
        "id": "DrJomQ5EREim"
      },
      "source": [
        "*Now, try to plot a scatter plot, where you see each individual point*"
      ]
    },
    {
      "cell_type": "code",
      "metadata": {
        "id": "DsMTSObFQDNU",
        "colab": {
          "base_uri": "https://localhost:8080/",
          "height": 430
        },
        "outputId": "e10b30ec-2a01-4bf9-e889-964ac87fa3b9"
      },
      "source": [
        "plt.scatter(a,b)\n",
        "plt.show()"
      ],
      "execution_count": 211,
      "outputs": [
        {
          "output_type": "display_data",
          "data": {
            "text/plain": [
              "<Figure size 640x480 with 1 Axes>"
            ],
            "image/png": "[encoded data removed]"
          },
          "metadata": {}
        }
      ]
    },
    {
      "cell_type": "markdown",
      "metadata": {
        "id": "pTAh3IpX6Fng"
      },
      "source": [
        "*Now, we want to build a histogram:* "
      ]
    },
    {
      "cell_type": "code",
      "metadata": {
        "id": "yIlOVSBBR1td",
        "colab": {
          "base_uri": "https://localhost:8080/",
          "height": 430
        },
        "outputId": "85cdda93-313d-45f8-e175-ea9cac0e8850"
      },
      "source": [
        "# Let's start by creating a list of 100 random numbers between 0 and 90\n",
        "import random\n",
        "random_numbers=[]\n",
        "for i in range(100):\n",
        "  random_numbers.append(random.randrange(0,91))\n",
        "\n",
        "# Now let's plot a histogram with 10 bins\n",
        "import matplotlib.pyplot as plt\n",
        "plt.hist(random_numbers, bins = 10)\n",
        "plt.show()"
      ],
      "execution_count": 214,
      "outputs": [
        {
          "output_type": "display_data",
          "data": {
            "text/plain": [
              "<Figure size 640x480 with 1 Axes>"
            ],
            "image/png": "[encoded data removed]"
          },
          "metadata": {}
        }
      ]
    },
    {
      "cell_type": "markdown",
      "metadata": {
        "id": "5F0JvOsjVogd"
      },
      "source": [
        "**Sklearn**\n",
        "\n",
        "scikit-learn is a open source library for data analysis in Python based on other Python libraries: NumPy, SciPy and Matplotlib. It contains a number of implementations for various common machine learning algorithms.\n",
        "\n",
        "*Let's start by creating some data:* "
      ]
    },
    {
      "cell_type": "code",
      "metadata": {
        "id": "xTiKJ44odfuQ",
        "colab": {
          "base_uri": "https://localhost:8080/",
          "height": 430
        },
        "outputId": "5229c7c1-2daf-416e-ea68-7838b0dc560f"
      },
      "source": [
        "import matplotlib.pyplot as plt\n",
        "import numpy as np\n",
        "\n",
        "# create 40 random float numbers\n",
        "X = 10 * np.random.rand(40) \n",
        "\n",
        "y = 3 * X + np.random.randn(40)*5\n",
        "\n",
        "# Take a look at your data with a scatter plot\n",
        "plt.scatter(X, y)\n",
        "plt.show()"
      ],
      "execution_count": 222,
      "outputs": [
        {
          "output_type": "display_data",
          "data": {
            "text/plain": [
              "<Figure size 640x480 with 1 Axes>"
            ],
            "image/png": "[encoded data removed]"
          },
          "metadata": {}
        }
      ]
    },
    {
      "cell_type": "markdown",
      "metadata": {
        "id": "rFRG_YiVh6OM"
      },
      "source": [
        "In many cases, it can be useful or necessary to standardize your data, so that both your X and y have a mean of 0 and a standard deviation of 1.\n",
        "\n",
        "*Try to standardize X and y using sklearn methods. You should receive 2 True as a result:*"
      ]
    },
    {
      "cell_type": "code",
      "metadata": {
        "id": "GXwazIichb9i",
        "colab": {
          "base_uri": "https://localhost:8080/",
          "height": 0
        },
        "outputId": "b416f820-d310-423e-811e-5b969979f2a2"
      },
      "source": [
        "from sklearn.preprocessing import StandardScaler\n",
        "import numpy as np\n",
        "X_scaled = StandardScaler().fit_transform(X.reshape(-1, 1))\n",
        "y_scaled = StandardScaler().fit_transform(y.reshape(-1, 1))\n",
        "\n",
        "print(X_scaled.mean().round(10) == 0 and y_scaled.mean().round(10) == 0)\n",
        "print(X_scaled.std().round(10) == 1 and y_scaled.std().round(10) == 1)\n"
      ],
      "execution_count": 229,
      "outputs": [
        {
          "output_type": "stream",
          "name": "stdout",
          "text": [
            "True\n",
            "True\n"
          ]
        }
      ]
    },
    {
      "cell_type": "markdown",
      "metadata": {
        "id": "G2s_v9ZdjwVJ"
      },
      "source": [
        "**<strong><font color='blue'> Side Note:** We may have to add a 'round(10)' here as Python works numerically - instead of getting an exact 0, you may sometimes get something like 2.2204460492503132e-17, which is practically 0, once we round to the tenth decimal point.</font></strong>"
      ]
    },
    {
      "cell_type": "markdown",
      "metadata": {
        "id": "yW99dkVKkk3M"
      },
      "source": [
        "*Let's make sure standardization did not change any proportions, by again producing a scatter plot with the scaled data:*"
      ]
    },
    {
      "cell_type": "code",
      "metadata": {
        "id": "dnbjxif3g1VK",
        "colab": {
          "base_uri": "https://localhost:8080/",
          "height": 430
        },
        "outputId": "ce88cca9-a7d3-4d14-df8b-e6f57c27773e"
      },
      "source": [
        "plt.scatter(X_scaled, y_scaled)\n",
        "plt.show()"
      ],
      "execution_count": 230,
      "outputs": [
        {
          "output_type": "display_data",
          "data": {
            "text/plain": [
              "<Figure size 640x480 with 1 Axes>"
            ],
            "image/png": "[encoded data removed]"
          },
          "metadata": {}
        }
      ]
    },
    {
      "cell_type": "markdown",
      "metadata": {
        "id": "B4z-ea5EIfoC"
      },
      "source": [
        "<img src =\"https://preview.redd.it/phfw135f17u41.jpg?width=960&crop=smart&auto=webp&s=0074296cef9eeeb7a40a03f19e618b847c756426\" width=500 height=300>"
      ]
    },
    {
      "cell_type": "markdown",
      "metadata": {
        "id": "Ky94Fe9pVu8a"
      },
      "source": [
        "##Regression with Sklearn"
      ]
    },
    {
      "cell_type": "markdown",
      "metadata": {
        "id": "_KADPUVuDC1w"
      },
      "source": [
        "There are **five basic steps** when you’re implementing linear regression:\n",
        "\n",
        "1. Import the packages and classes you need.\n",
        "2. Provide data to work with and eventually do appropriate transformations.\n",
        "3. Create a regression model and fit it with existing data.\n",
        "4. Check the results of model fitting to know whether the model is satisfactory.\n",
        "5. Apply the model for predictions."
      ]
    },
    {
      "cell_type": "markdown",
      "metadata": {
        "id": "3vxgqggvDgEG"
      },
      "source": [
        "**Step 1: Import packages and classes**\n"
      ]
    },
    {
      "cell_type": "markdown",
      "metadata": {
        "id": "-4w2k0VNDzkd"
      },
      "source": [
        "*Please import the package numpy and the class LinearRegression:*"
      ]
    },
    {
      "cell_type": "code",
      "metadata": {
        "id": "QOXsjNrzDqTL"
      },
      "source": [
        "import numpy as np\n",
        "from sklearn.linear_model import LinearRegression"
      ],
      "execution_count": 232,
      "outputs": []
    },
    {
      "cell_type": "markdown",
      "metadata": {
        "id": "25zDeGGiEBUw"
      },
      "source": [
        "The fundamental data type of NumPy is the array type called numpy.ndarray. From now on, we're using the term array to refer to instances of the type numpy.ndarray."
      ]
    },
    {
      "cell_type": "markdown",
      "metadata": {
        "id": "0qNh58vEEMWL"
      },
      "source": [
        "**Step 2: Provide data:**\n",
        "\n",
        "The second step is defining data to work with. The inputs (regressors, 𝑥) and output (predictor, 𝑦) should be arrays (the instances of the class numpy.ndarray) or similar objects. Please reuse X_scaled and y_scaled. If this did not work, use the alternative data provided. \n",
        "\n",
        "*If necessary, change the following code to provide data for the regression:*"
      ]
    },
    {
      "cell_type": "code",
      "metadata": {
        "id": "XfhGOPWEuI72"
      },
      "source": [
        "# IF YOU DID NOT MANAGE TO CREATE X_scaled and y_scaled, uncomment and use the following lines\n",
        "# X_scaled = np.array([-0.51,  0.67, -0.47,  0.6 ,  1.71, -0.16,  0.34, -1.02, -0.68,\n",
        "#         2.43, -1.2 ,  0.51, -0.91,  0.66, -0.53, -2.31, -0.65,  1.34,\n",
        "#         0.11,  1.1 ,  1.52, -0.96, -1.29, -0.71, -0.3 ,  1.46, -1.08,\n",
        "#         0.24, -0.  ,  0.28,  0.9 ,  0.75, -0.62, -0.71,  1.56, -0.33,\n",
        "#         0.14, -1.43, -0.66,  0.2 ])\n",
        "# y_scaled = np.array([-0.46,  0.63, -0.3 ,  0.66,  1.62, -0.55,  0.27, -1.03, -0.68,\n",
        "#         2.25, -1.25,  0.47, -0.51,  0.63, -0.62, -2.42, -0.76,  1.44,\n",
        "#        -0.12,  1.38,  1.6 , -1.22, -1.21, -0.63, -0.37,  1.24, -1.18,\n",
        "#         0.37,  0.17,  0.4 ,  0.88,  0.77, -0.49, -0.44,  1.63, -0.37,\n",
        "#         0.02, -1.36, -0.51,  0.07])"
      ],
      "execution_count": null,
      "outputs": []
    },
    {
      "cell_type": "markdown",
      "metadata": {
        "id": "Sgdxd-cp4VBx"
      },
      "source": [
        "*Please print the variables X_scaled and y_scaled to check if they are correct:*"
      ]
    },
    {
      "cell_type": "code",
      "metadata": {
        "id": "CpgJWagDE-x9",
        "colab": {
          "base_uri": "https://localhost:8080/",
          "height": 0
        },
        "outputId": "c8639cd6-64e3-4822-b92e-7e86539c1280"
      },
      "source": [
        "print(X_scaled)\n",
        "print(y_scaled)"
      ],
      "execution_count": 233,
      "outputs": [
        {
          "output_type": "stream",
          "name": "stdout",
          "text": [
            "[[ 0.15053787]\n",
            " [ 0.95694239]\n",
            " [ 1.49078532]\n",
            " [-1.18367629]\n",
            " [-1.75029864]\n",
            " [ 1.15024276]\n",
            " [-1.18444294]\n",
            " [-0.07121131]\n",
            " [ 0.93865282]\n",
            " [ 1.30937079]\n",
            " [ 0.16339364]\n",
            " [-1.01930701]\n",
            " [-0.72379384]\n",
            " [-0.82089968]\n",
            " [ 0.60654519]\n",
            " [-0.62683846]\n",
            " [-1.61841831]\n",
            " [ 1.13007088]\n",
            " [ 1.43071195]\n",
            " [ 1.36352809]\n",
            " [ 1.19198991]\n",
            " [-1.36554175]\n",
            " [-0.69674808]\n",
            " [-1.31714544]\n",
            " [ 0.39222359]\n",
            " [ 1.07973348]\n",
            " [-0.31306465]\n",
            " [-1.48149996]\n",
            " [ 0.76203691]\n",
            " [-0.60295516]\n",
            " [ 0.33162271]\n",
            " [ 0.35267283]\n",
            " [ 1.12223337]\n",
            " [-0.23126447]\n",
            " [-0.35075336]\n",
            " [-0.66651111]\n",
            " [-0.34940394]\n",
            " [-1.07933665]\n",
            " [ 1.65565254]\n",
            " [-0.12583596]]\n",
            "[[ 0.04763187]\n",
            " [ 1.29120407]\n",
            " [ 1.55763045]\n",
            " [-0.385582  ]\n",
            " [-1.68384349]\n",
            " [ 1.08071847]\n",
            " [-0.88502583]\n",
            " [-0.43195727]\n",
            " [ 0.15152781]\n",
            " [ 1.64988283]\n",
            " [ 0.98117739]\n",
            " [-1.18668424]\n",
            " [-0.24067222]\n",
            " [-1.11916119]\n",
            " [ 0.62783484]\n",
            " [-1.02329015]\n",
            " [-0.99609098]\n",
            " [ 1.34886301]\n",
            " [ 1.7357639 ]\n",
            " [ 0.00685326]\n",
            " [ 1.71658905]\n",
            " [-2.09804349]\n",
            " [-0.44164816]\n",
            " [-1.35331611]\n",
            " [ 0.54728221]\n",
            " [ 0.81864878]\n",
            " [-0.58408323]\n",
            " [-1.44433925]\n",
            " [ 0.92343461]\n",
            " [ 0.20336382]\n",
            " [ 0.14239964]\n",
            " [-1.00674825]\n",
            " [ 1.06980831]\n",
            " [-0.08173577]\n",
            " [-0.24119368]\n",
            " [ 0.20845826]\n",
            " [ 0.04458693]\n",
            " [-1.00297928]\n",
            " [ 0.27953825]\n",
            " [-0.22680317]]\n"
          ]
        }
      ]
    },
    {
      "cell_type": "markdown",
      "metadata": {
        "id": "L6PcWKhwFML5"
      },
      "source": [
        "**Step 3: Create a model and fit it**\n",
        "\n",
        "The next step is to create a linear regression model and fit it using the existing data. "
      ]
    },
    {
      "cell_type": "markdown",
      "metadata": {
        "id": "Hk6SGwfuFihF"
      },
      "source": [
        "*Please create and fit the model (fitting means, sklearn will estimate your parameters for a given Input using the specified model):*\n",
        "**Attention: Many times, sklearn needs input of a specific shape. If this is the case (as it will be here), you may be required to reshape data, even if is basically the same, e.g. reshaping a (n,) array to a (n,1) array.**"
      ]
    },
    {
      "cell_type": "code",
      "metadata": {
        "id": "X5HYk7zYICma",
        "colab": {
          "base_uri": "https://localhost:8080/",
          "height": 75
        },
        "outputId": "97ee2a37-c8fa-45ce-d060-1c205fc0571c"
      },
      "source": [
        "model = LinearRegression()\n",
        "model.fit(X_scaled, y_scaled)"
      ],
      "execution_count": 234,
      "outputs": [
        {
          "output_type": "execute_result",
          "data": {
            "text/plain": [
              "LinearRegression()"
            ],
            "text/html": [
              "<style>#sk-container-id-1 {color: black;background-color: white;}#sk-container-id-1 pre{padding: 0;}#sk-container-id-1 div.sk-toggleable {background-color: white;}#sk-container-id-1 label.sk-toggleable__label {cursor: pointer;display: block;width: 100%;margin-bottom: 0;padding: 0.3em;box-sizing: border-box;text-align: center;}#sk-container-id-1 label.sk-toggleable__label-arrow:before {content: \"▸\";float: left;margin-right: 0.25em;color: #696969;}#sk-container-id-1 label.sk-toggleable__label-arrow:hover:before {color: black;}#sk-container-id-1 div.sk-estimator:hover label.sk-toggleable__label-arrow:before {color: black;}#sk-container-id-1 div.sk-toggleable__content {max-height: 0;max-width: 0;overflow: hidden;text-align: left;background-color: #f0f8ff;}#sk-container-id-1 div.sk-toggleable__content pre {margin: 0.2em;color: black;border-radius: 0.25em;background-color: #f0f8ff;}#sk-container-id-1 input.sk-toggleable__control:checked~div.sk-toggleable__content {max-height: 200px;max-width: 100%;overflow: auto;}#sk-container-id-1 input.sk-toggleable__control:checked~label.sk-toggleable__label-arrow:before {content: \"▾\";}#sk-container-id-1 div.sk-estimator input.sk-toggleable__control:checked~label.sk-toggleable__label {background-color: #d4ebff;}#sk-container-id-1 div.sk-label input.sk-toggleable__control:checked~label.sk-toggleable__label {background-color: #d4ebff;}#sk-container-id-1 input.sk-hidden--visually {border: 0;clip: rect(1px 1px 1px 1px);clip: rect(1px, 1px, 1px, 1px);height: 1px;margin: -1px;overflow: hidden;padding: 0;position: absolute;width: 1px;}#sk-container-id-1 div.sk-estimator {font-family: monospace;background-color: #f0f8ff;border: 1px dotted black;border-radius: 0.25em;box-sizing: border-box;margin-bottom: 0.5em;}#sk-container-id-1 div.sk-estimator:hover {background-color: #d4ebff;}#sk-container-id-1 div.sk-parallel-item::after {content: \"\";width: 100%;border-bottom: 1px solid gray;flex-grow: 1;}#sk-container-id-1 div.sk-label:hover label.sk-toggleable__label {background-color: #d4ebff;}#sk-container-id-1 div.sk-serial::before {content: \"\";position: absolute;border-left: 1px solid gray;box-sizing: border-box;top: 0;bottom: 0;left: 50%;z-index: 0;}#sk-container-id-1 div.sk-serial {display: flex;flex-direction: column;align-items: center;background-color: white;padding-right: 0.2em;padding-left: 0.2em;position: relative;}#sk-container-id-1 div.sk-item {position: relative;z-index: 1;}#sk-container-id-1 div.sk-parallel {display: flex;align-items: stretch;justify-content: center;background-color: white;position: relative;}#sk-container-id-1 div.sk-item::before, #sk-container-id-1 div.sk-parallel-item::before {content: \"\";position: absolute;border-left: 1px solid gray;box-sizing: border-box;top: 0;bottom: 0;left: 50%;z-index: -1;}#sk-container-id-1 div.sk-parallel-item {display: flex;flex-direction: column;z-index: 1;position: relative;background-color: white;}#sk-container-id-1 div.sk-parallel-item:first-child::after {align-self: flex-end;width: 50%;}#sk-container-id-1 div.sk-parallel-item:last-child::after {align-self: flex-start;width: 50%;}#sk-container-id-1 div.sk-parallel-item:only-child::after {width: 0;}#sk-container-id-1 div.sk-dashed-wrapped {border: 1px dashed gray;margin: 0 0.4em 0.5em 0.4em;box-sizing: border-box;padding-bottom: 0.4em;background-color: white;}#sk-container-id-1 div.sk-label label {font-family: monospace;font-weight: bold;display: inline-block;line-height: 1.2em;}#sk-container-id-1 div.sk-label-container {text-align: center;}#sk-container-id-1 div.sk-container {/* jupyter's `normalize.less` sets `[hidden] { display: none; }` but bootstrap.min.css set `[hidden] { display: none !important; }` so we also need the `!important` here to be able to override the default hidden behavior on the sphinx rendered scikit-learn.org. See: https://github.com/scikit-learn/scikit-learn/issues/21755 */display: inline-block !important;position: relative;}#sk-container-id-1 div.sk-text-repr-fallback {display: none;}</style><div id=\"sk-container-id-1\" class=\"sk-top-container\"><div class=\"sk-text-repr-fallback\"><pre>LinearRegression()</pre><b>In a Jupyter environment, please rerun this cell to show the HTML representation or trust the notebook. <br />On GitHub, the HTML representation is unable to render, please try loading this page with nbviewer.org.</b></div><div class=\"sk-container\" hidden><div class=\"sk-item\"><div class=\"sk-estimator sk-toggleable\"><input class=\"sk-toggleable__control sk-hidden--visually\" id=\"sk-estimator-id-1\" type=\"checkbox\" checked><label for=\"sk-estimator-id-1\" class=\"sk-toggleable__label sk-toggleable__label-arrow\">LinearRegression</label><div class=\"sk-toggleable__content\"><pre>LinearRegression()</pre></div></div></div></div></div>"
            ]
          },
          "metadata": {},
          "execution_count": 234
        }
      ]
    },
    {
      "cell_type": "markdown",
      "metadata": {
        "id": "IYmtW_4dFwfi"
      },
      "source": [
        "**Step 4: Get results**\n",
        "\n",
        "Once you have your model fitted, you can get the results to check whether the model works satisfactorily and interpret it.\n",
        "\n",
        "*Please obtain the coefficient of determination (𝑅²):*"
      ]
    },
    {
      "cell_type": "code",
      "metadata": {
        "id": "owg_cgsgF7Uf",
        "colab": {
          "base_uri": "https://localhost:8080/",
          "height": 0
        },
        "outputId": "bf916a20-b091-41eb-e1c8-00aebc76430b"
      },
      "source": [
        "r_sq = model.score(X_scaled, y_scaled)\n",
        "print('coefficient of determination:', r_sq)"
      ],
      "execution_count": 235,
      "outputs": [
        {
          "output_type": "stream",
          "name": "stdout",
          "text": [
            "coefficient of determination: 0.7278925724799854\n"
          ]
        }
      ]
    },
    {
      "cell_type": "markdown",
      "metadata": {
        "id": "Q7IOBX0JGG9U"
      },
      "source": [
        "*Now, please also take a look at the estimated parameters for the intercept and the slope:*"
      ]
    },
    {
      "cell_type": "code",
      "metadata": {
        "id": "2t08j85rGJiP",
        "colab": {
          "base_uri": "https://localhost:8080/",
          "height": 0
        },
        "outputId": "0435ef74-fe1f-40aa-852b-9cffc91073af"
      },
      "source": [
        "print('intercept:', model.intercept_) #axis intersect\n",
        "\n",
        "print('slope:', model.coef_[0]) #steepness"
      ],
      "execution_count": 236,
      "outputs": [
        {
          "output_type": "stream",
          "name": "stdout",
          "text": [
            "intercept: [5.48081126e-17]\n",
            "slope: [0.8531662]\n"
          ]
        }
      ]
    },
    {
      "cell_type": "markdown",
      "metadata": {
        "id": "hKQtcJTsGRSO"
      },
      "source": [
        "The code above illustrates how to get 𝑏₀ and 𝑏₁. You may notice that the intercept is a scalar, while the slope is an array, as you can have multiple independent variables (X)."
      ]
    },
    {
      "cell_type": "markdown",
      "metadata": {
        "id": "BQbgOa03Gcjq"
      },
      "source": [
        "**Step 5: Predict response**\n",
        "\n",
        "Once there is a satisfactory model, you can use it for predictions with either existing or new data.\n",
        "\n",
        "*To obtain the predicted response for X_scaled, change the following code:*"
      ]
    },
    {
      "cell_type": "code",
      "metadata": {
        "id": "Yn_1GeBTI1xm",
        "colab": {
          "base_uri": "https://localhost:8080/",
          "height": 0
        },
        "outputId": "d78344aa-fe77-4858-902b-f37da4f56741"
      },
      "source": [
        "y_pred = model.predict(X_scaled)\n",
        "print('predicted response:', y_pred , sep='\\n')"
      ],
      "execution_count": 237,
      "outputs": [
        {
          "output_type": "stream",
          "name": "stdout",
          "text": [
            "predicted response:\n",
            "[[ 0.12843382]\n",
            " [ 0.8164309 ]\n",
            " [ 1.27188765]\n",
            " [-1.00987261]\n",
            " [-1.49329565]\n",
            " [ 0.98134825]\n",
            " [-1.01052668]\n",
            " [-0.06075509]\n",
            " [ 0.80082687]\n",
            " [ 1.11711091]\n",
            " [ 0.13940193]\n",
            " [-0.8696383 ]\n",
            " [-0.61751644]\n",
            " [-0.70036386]\n",
            " [ 0.51748386]\n",
            " [-0.53479739]\n",
            " [-1.38077981]\n",
            " [ 0.96413829]\n",
            " [ 1.22063509]\n",
            " [ 1.16331608]\n",
            " [ 1.01696551]\n",
            " [-1.16503408]\n",
            " [-0.59444192]\n",
            " [-1.12374398]\n",
            " [ 0.33463191]\n",
            " [ 0.92119212]\n",
            " [-0.26709618]\n",
            " [-1.2639657 ]\n",
            " [ 0.65014414]\n",
            " [-0.51442096]\n",
            " [ 0.28292929]\n",
            " [ 0.30088854]\n",
            " [ 0.95745158]\n",
            " [-0.19730703]\n",
            " [-0.29925091]\n",
            " [-0.56864476]\n",
            " [-0.29809964]\n",
            " [-0.92085355]\n",
            " [ 1.41254679]\n",
            " [-0.10735899]]\n"
          ]
        }
      ]
    },
    {
      "cell_type": "markdown",
      "metadata": {
        "id": "GmP1TirNI7UT"
      },
      "source": [
        "*Let's plot both original data and our predicted values as a line:*"
      ]
    },
    {
      "cell_type": "code",
      "metadata": {
        "id": "X_zYLgzOJCCe",
        "colab": {
          "base_uri": "https://localhost:8080/",
          "height": 430
        },
        "outputId": "a0cda9a2-6da5-46a7-8818-d904a1b62207"
      },
      "source": [
        "import matplotlib.pyplot as plt\n",
        "plt.scatter(X_scaled,y_scaled, color = 'b')\n",
        "plt.plot(X_scaled, y_pred, color = 'r') #predicted values as a line\n",
        "plt.show()"
      ],
      "execution_count": 248,
      "outputs": [
        {
          "output_type": "display_data",
          "data": {
            "text/plain": [
              "<Figure size 640x480 with 1 Axes>"
            ],
            "image/png": "[encoded data removed]"
          },
          "metadata": {}
        }
      ]
    },
    {
      "cell_type": "markdown",
      "metadata": {
        "id": "nj0pBvAEGyOU"
      },
      "source": [
        "In practice, regression models are often applied for forecasts. \n",
        "\n",
        "*Try to use the model to forecast a y value for a single random X value:*\n",
        "**Attention: Make sure, you provide your data in the correct format expected by your model - this can not be an integer ;)**"
      ]
    },
    {
      "cell_type": "code",
      "metadata": {
        "id": "g5epV7S-MZsF",
        "colab": {
          "base_uri": "https://localhost:8080/",
          "height": 0
        },
        "outputId": "8f57f393-54c3-4370-ad46-22921be40da6"
      },
      "source": [
        "X = np.array(0.7).reshape(-1, 1) #reshape necessary, random x value picked as 0.7\n",
        "y_new = model.predict(X)\n",
        "print(y_new)"
      ],
      "execution_count": 281,
      "outputs": [
        {
          "output_type": "stream",
          "name": "stdout",
          "text": [
            "[[0.59721634]]\n"
          ]
        }
      ]
    },
    {
      "cell_type": "markdown",
      "metadata": {
        "id": "DmI6Szxaid4z"
      },
      "source": [
        "## Machine Learning Pipeline\n",
        "\n",
        "We will now execute a Machine Learning pipeline including data preparation, model training and performance evaluation using a Random Forest and a Linear Regression as a baseline model. \n",
        "\n",
        "We will use a dataset, where customers rated the quality of wine (For details, see: https://archive.ics.uci.edu/ml/datasets/Wine).\n"
      ]
    },
    {
      "cell_type": "markdown",
      "metadata": {
        "id": "VWmk2uMXYoRB"
      },
      "source": [
        "**Step 1: Data Preparation**\n",
        "\n",
        "\n",
        "*Please load the two datasets properly, and store them in two dataframes:*"
      ]
    },
    {
      "cell_type": "code",
      "metadata": {
        "id": "COtKM6dDRd5u",
        "colab": {
          "base_uri": "https://localhost:8080/",
          "height": 0
        },
        "outputId": "695e609a-2898-4093-8100-334b173b5ccf"
      },
      "source": [
        "import pandas as pd\n",
        "url_white = 'https://archive.ics.uci.edu/ml/machine-learning-databases/wine-quality/winequality-white.csv'\n",
        "url_red = 'https://archive.ics.uci.edu/ml/machine-learning-databases/wine-quality/winequality-red.csv'\n",
        "\n",
        "df_white = pd.read_csv(url_white, sep=';')\n",
        "df_red = pd.read_csv(url_red, sep=';')\n",
        "\n",
        "print(df_white.shape,df_red.shape) # does this look resonable? Make sure you have the correct number of columns. If necessary, take a look at your data!\n",
        "#output results in the amount of rows and columns"
      ],
      "execution_count": 283,
      "outputs": [
        {
          "output_type": "stream",
          "name": "stdout",
          "text": [
            "(4898, 12) (1599, 12)\n"
          ]
        }
      ]
    },
    {
      "cell_type": "markdown",
      "metadata": {
        "id": "atoUpOnrMum_"
      },
      "source": [
        "*Now add a column \"color\" with the wine colors white = 0 or red = 1 respectively (to preserve this information) and combine both dataframes into one:*"
      ]
    },
    {
      "cell_type": "code",
      "metadata": {
        "id": "MK9qxcwYMtuP",
        "colab": {
          "base_uri": "https://localhost:8080/",
          "height": 0
        },
        "outputId": "fe657b2a-787e-4136-9c9d-a0a83d8d0c8c"
      },
      "source": [
        "df_white['color'] = 0 # add color column to df_white\n",
        "df_red['color'] = 1 # add color column to df_red\n",
        "df_wines = pd.concat([df_white, df_red]) # combine the two dataframes in a single long table\n",
        "\n",
        "print(df_wines.shape) # this should be (6497, 13)"
      ],
      "execution_count": 284,
      "outputs": [
        {
          "output_type": "stream",
          "name": "stdout",
          "text": [
            "(6497, 13)\n"
          ]
        }
      ]
    },
    {
      "cell_type": "markdown",
      "metadata": {
        "id": "bsIP2kuhMA68"
      },
      "source": [
        "Remember, we want to understand **what drives customer's quality perception for wines**. To accomplish that, we want to predict the perceived quality of a wine (our dependent variable, y) using all other available variables (indepentend variables, X).\n",
        "\n",
        "*Let's take a brief look at your dependend variable - how many wines per quality rating are there?*"
      ]
    },
    {
      "cell_type": "code",
      "metadata": {
        "id": "nv32nSUxVLTR",
        "colab": {
          "base_uri": "https://localhost:8080/",
          "height": 0
        },
        "outputId": "3165bae7-6506-4f2c-b2d6-8e084478b423"
      },
      "source": [
        "print(df_wines['quality'].value_counts()) # create a table with the number of occurences per quality value (e.g., there should be 193 wines rated 8)"
      ],
      "execution_count": 285,
      "outputs": [
        {
          "output_type": "stream",
          "name": "stdout",
          "text": [
            "6    2836\n",
            "5    2138\n",
            "7    1079\n",
            "4     216\n",
            "8     193\n",
            "3      30\n",
            "9       5\n",
            "Name: quality, dtype: int64\n"
          ]
        }
      ]
    },
    {
      "cell_type": "markdown",
      "metadata": {
        "id": "ZGgViSRJjy1s"
      },
      "source": [
        "*Now split the data in dependent (y) - quality - and independent(X) variable:*"
      ]
    },
    {
      "cell_type": "code",
      "metadata": {
        "id": "vOIyY8IkMg3R",
        "colab": {
          "base_uri": "https://localhost:8080/",
          "height": 213
        },
        "outputId": "73f0ee65-0e4d-4cab-dad0-ed9edb9cf6bd"
      },
      "source": [
        "X,y = df_wines.iloc[:, :-1], df_wines.iloc[:, -1]\n",
        "\n",
        "print(y.head(3))\n",
        "X.head(3) # Does this look good?"
      ],
      "execution_count": 286,
      "outputs": [
        {
          "output_type": "stream",
          "name": "stdout",
          "text": [
            "0    0\n",
            "1    0\n",
            "2    0\n",
            "Name: color, dtype: int64\n"
          ]
        },
        {
          "output_type": "execute_result",
          "data": {
            "text/plain": [
              "   fixed acidity  volatile acidity  citric acid  residual sugar  chlorides  \\\n",
              "0            7.0              0.27         0.36            20.7      0.045   \n",
              "1            6.3              0.30         0.34             1.6      0.049   \n",
              "2            8.1              0.28         0.40             6.9      0.050   \n",
              "\n",
              "   free sulfur dioxide  total sulfur dioxide  density    pH  sulphates  \\\n",
              "0                 45.0                 170.0   1.0010  3.00       0.45   \n",
              "1                 14.0                 132.0   0.9940  3.30       0.49   \n",
              "2                 30.0                  97.0   0.9951  3.26       0.44   \n",
              "\n",
              "   alcohol  quality  \n",
              "0      8.8        6  \n",
              "1      9.5        6  \n",
              "2     10.1        6  "
            ],
            "text/html": [
              "\n",
              "  <div id=\"df-8574d412-02b3-4f5a-a93f-ce278302d2d3\">\n",
              "    <div class=\"colab-df-container\">\n",
              "      <div>\n",
              "<style scoped>\n",
              "    .dataframe tbody tr th:only-of-type {\n",
              "        vertical-align: middle;\n",
              "    }\n",
              "\n",
              "    .dataframe tbody tr th {\n",
              "        vertical-align: top;\n",
              "    }\n",
              "\n",
              "    .dataframe thead th {\n",
              "        text-align: right;\n",
              "    }\n",
              "</style>\n",
              "<table border=\"1\" class=\"dataframe\">\n",
              "  <thead>\n",
              "    <tr style=\"text-align: right;\">\n",
              "      <th></th>\n",
              "      <th>fixed acidity</th>\n",
              "      <th>volatile acidity</th>\n",
              "      <th>citric acid</th>\n",
              "      <th>residual sugar</th>\n",
              "      <th>chlorides</th>\n",
              "      <th>free sulfur dioxide</th>\n",
              "      <th>total sulfur dioxide</th>\n",
              "      <th>density</th>\n",
              "      <th>pH</th>\n",
              "      <th>sulphates</th>\n",
              "      <th>alcohol</th>\n",
              "      <th>quality</th>\n",
              "    </tr>\n",
              "  </thead>\n",
              "  <tbody>\n",
              "    <tr>\n",
              "      <th>0</th>\n",
              "      <td>7.0</td>\n",
              "      <td>0.27</td>\n",
              "      <td>0.36</td>\n",
              "      <td>20.7</td>\n",
              "      <td>0.045</td>\n",
              "      <td>45.0</td>\n",
              "      <td>170.0</td>\n",
              "      <td>1.0010</td>\n",
              "      <td>3.00</td>\n",
              "      <td>0.45</td>\n",
              "      <td>8.8</td>\n",
              "      <td>6</td>\n",
              "    </tr>\n",
              "    <tr>\n",
              "      <th>1</th>\n",
              "      <td>6.3</td>\n",
              "      <td>0.30</td>\n",
              "      <td>0.34</td>\n",
              "      <td>1.6</td>\n",
              "      <td>0.049</td>\n",
              "      <td>14.0</td>\n",
              "      <td>132.0</td>\n",
              "      <td>0.9940</td>\n",
              "      <td>3.30</td>\n",
              "      <td>0.49</td>\n",
              "      <td>9.5</td>\n",
              "      <td>6</td>\n",
              "    </tr>\n",
              "    <tr>\n",
              "      <th>2</th>\n",
              "      <td>8.1</td>\n",
              "      <td>0.28</td>\n",
              "      <td>0.40</td>\n",
              "      <td>6.9</td>\n",
              "      <td>0.050</td>\n",
              "      <td>30.0</td>\n",
              "      <td>97.0</td>\n",
              "      <td>0.9951</td>\n",
              "      <td>3.26</td>\n",
              "      <td>0.44</td>\n",
              "      <td>10.1</td>\n",
              "      <td>6</td>\n",
              "    </tr>\n",
              "  </tbody>\n",
              "</table>\n",
              "</div>\n",
              "      <button class=\"colab-df-convert\" onclick=\"convertToInteractive('df-8574d412-02b3-4f5a-a93f-ce278302d2d3')\"\n",
              "              title=\"Convert this dataframe to an interactive table.\"\n",
              "              style=\"display:none;\">\n",
              "        \n",
              "  <svg xmlns=\"http://www.w3.org/2000/svg\" height=\"24px\"viewBox=\"0 0 24 24\"\n",
              "       width=\"24px\">\n",
              "    <path d=\"M0 0h24v24H0V0z\" fill=\"none\"/>\n",
              "    <path d=\"M18.56 5.44l.94 2.06.94-2.06 2.06-.94-2.06-.94-.94-2.06-.94 2.06-2.06.94zm-11 1L8.5 8.5l.94-2.06 2.06-.94-2.06-.94L8.5 2.5l-.94 2.06-2.06.94zm10 10l.94 2.06.94-2.06 2.06-.94-2.06-.94-.94-2.06-.94 2.06-2.06.94z\"/><path d=\"M17.41 7.96l-1.37-1.37c-.4-.4-.92-.59-1.43-.59-.52 0-1.04.2-1.43.59L10.3 9.45l-7.72 7.72c-.78.78-.78 2.05 0 2.83L4 21.41c.39.39.9.59 1.41.59.51 0 1.02-.2 1.41-.59l7.78-7.78 2.81-2.81c.8-.78.8-2.07 0-2.86zM5.41 20L4 18.59l7.72-7.72 1.47 1.35L5.41 20z\"/>\n",
              "  </svg>\n",
              "      </button>\n",
              "      \n",
              "  <style>\n",
              "    .colab-df-container {\n",
              "      display:flex;\n",
              "      flex-wrap:wrap;\n",
              "      gap: 12px;\n",
              "    }\n",
              "\n",
              "    .colab-df-convert {\n",
              "      background-color: #E8F0FE;\n",
              "      border: none;\n",
              "      border-radius: 50%;\n",
              "      cursor: pointer;\n",
              "      display: none;\n",
              "      fill: #1967D2;\n",
              "      height: 32px;\n",
              "      padding: 0 0 0 0;\n",
              "      width: 32px;\n",
              "    }\n",
              "\n",
              "    .colab-df-convert:hover {\n",
              "      background-color: #E2EBFA;\n",
              "      box-shadow: 0px 1px 2px rgba(60, 64, 67, 0.3), 0px 1px 3px 1px rgba(60, 64, 67, 0.15);\n",
              "      fill: #174EA6;\n",
              "    }\n",
              "\n",
              "    [theme=dark] .colab-df-convert {\n",
              "      background-color: #3B4455;\n",
              "      fill: #D2E3FC;\n",
              "    }\n",
              "\n",
              "    [theme=dark] .colab-df-convert:hover {\n",
              "      background-color: #434B5C;\n",
              "      box-shadow: 0px 1px 3px 1px rgba(0, 0, 0, 0.15);\n",
              "      filter: drop-shadow(0px 1px 2px rgba(0, 0, 0, 0.3));\n",
              "      fill: #FFFFFF;\n",
              "    }\n",
              "  </style>\n",
              "\n",
              "      <script>\n",
              "        const buttonEl =\n",
              "          document.querySelector('#df-8574d412-02b3-4f5a-a93f-ce278302d2d3 button.colab-df-convert');\n",
              "        buttonEl.style.display =\n",
              "          google.colab.kernel.accessAllowed ? 'block' : 'none';\n",
              "\n",
              "        async function convertToInteractive(key) {\n",
              "          const element = document.querySelector('#df-8574d412-02b3-4f5a-a93f-ce278302d2d3');\n",
              "          const dataTable =\n",
              "            await google.colab.kernel.invokeFunction('convertToInteractive',\n",
              "                                                     [key], {});\n",
              "          if (!dataTable) return;\n",
              "\n",
              "          const docLinkHtml = 'Like what you see? Visit the ' +\n",
              "            '<a target=\"_blank\" href=https://colab.research.google.com/notebooks/data_table.ipynb>data table notebook</a>'\n",
              "            + ' to learn more about interactive tables.';\n",
              "          element.innerHTML = '';\n",
              "          dataTable['output_type'] = 'display_data';\n",
              "          await google.colab.output.renderOutput(dataTable, element);\n",
              "          const docLink = document.createElement('div');\n",
              "          docLink.innerHTML = docLinkHtml;\n",
              "          element.appendChild(docLink);\n",
              "        }\n",
              "      </script>\n",
              "    </div>\n",
              "  </div>\n",
              "  "
            ]
          },
          "metadata": {},
          "execution_count": 286
        }
      ]
    },
    {
      "cell_type": "markdown",
      "metadata": {
        "id": "NCcOLK-ZMkUI"
      },
      "source": [
        "**Step 2: Training**\n",
        "\n",
        "*Let's split the dataset so that 80% of the data is used to train the model and 20% is kept for future evaluation:*"
      ]
    },
    {
      "cell_type": "code",
      "metadata": {
        "id": "i1LDvrZ5MorA",
        "colab": {
          "base_uri": "https://localhost:8080/",
          "height": 0
        },
        "outputId": "a02b4e8e-86ba-4526-bc8e-b4fdb98c4789"
      },
      "source": [
        "from sklearn.model_selection import train_test_split\n",
        "X_train, X_test, y_train, y_test = train_test_split(X, y, test_size=0.2, random_state=42)\n",
        "print(X_train.shape, X_test.shape, y_train.shape, y_test.shape)"
      ],
      "execution_count": 287,
      "outputs": [
        {
          "output_type": "stream",
          "name": "stdout",
          "text": [
            "(5197, 12) (1300, 12) (5197,) (1300,)\n"
          ]
        }
      ]
    },
    {
      "cell_type": "markdown",
      "metadata": {
        "id": "9FVKFEvSMtzc"
      },
      "source": [
        "Now we can define and fit our model on the training dataset. Let's do this for both a random forest and a linear regression model. Using two model will allow us to better evaluate our model performance in the end.\n",
        "\n",
        "*Please fit a linear regression and a random forest model:*"
      ]
    },
    {
      "cell_type": "code",
      "metadata": {
        "id": "Q31IBY8OMw7k",
        "colab": {
          "base_uri": "https://localhost:8080/",
          "height": 75
        },
        "outputId": "3ace775d-454d-47c9-8ea6-8d2260f406a9"
      },
      "source": [
        "from sklearn.ensemble import RandomForestRegressor # take suitable random forest module\n",
        "from sklearn.linear_model import LinearRegression\n",
        "\n",
        "model_rfo = RandomForestRegressor(random_state=42) # initialize random forest model, set seed with 42 for reproducibility\n",
        "model_lin = LinearRegression() # initialize linear regression model\n",
        "\n",
        "model_rfo.fit(X_train, y_train)\n",
        "model_lin.fit(X_train, y_train)"
      ],
      "execution_count": 289,
      "outputs": [
        {
          "output_type": "execute_result",
          "data": {
            "text/plain": [
              "LinearRegression()"
            ],
            "text/html": [
              "<style>#sk-container-id-3 {color: black;background-color: white;}#sk-container-id-3 pre{padding: 0;}#sk-container-id-3 div.sk-toggleable {background-color: white;}#sk-container-id-3 label.sk-toggleable__label {cursor: pointer;display: block;width: 100%;margin-bottom: 0;padding: 0.3em;box-sizing: border-box;text-align: center;}#sk-container-id-3 label.sk-toggleable__label-arrow:before {content: \"▸\";float: left;margin-right: 0.25em;color: #696969;}#sk-container-id-3 label.sk-toggleable__label-arrow:hover:before {color: black;}#sk-container-id-3 div.sk-estimator:hover label.sk-toggleable__label-arrow:before {color: black;}#sk-container-id-3 div.sk-toggleable__content {max-height: 0;max-width: 0;overflow: hidden;text-align: left;background-color: #f0f8ff;}#sk-container-id-3 div.sk-toggleable__content pre {margin: 0.2em;color: black;border-radius: 0.25em;background-color: #f0f8ff;}#sk-container-id-3 input.sk-toggleable__control:checked~div.sk-toggleable__content {max-height: 200px;max-width: 100%;overflow: auto;}#sk-container-id-3 input.sk-toggleable__control:checked~label.sk-toggleable__label-arrow:before {content: \"▾\";}#sk-container-id-3 div.sk-estimator input.sk-toggleable__control:checked~label.sk-toggleable__label {background-color: #d4ebff;}#sk-container-id-3 div.sk-label input.sk-toggleable__control:checked~label.sk-toggleable__label {background-color: #d4ebff;}#sk-container-id-3 input.sk-hidden--visually {border: 0;clip: rect(1px 1px 1px 1px);clip: rect(1px, 1px, 1px, 1px);height: 1px;margin: -1px;overflow: hidden;padding: 0;position: absolute;width: 1px;}#sk-container-id-3 div.sk-estimator {font-family: monospace;background-color: #f0f8ff;border: 1px dotted black;border-radius: 0.25em;box-sizing: border-box;margin-bottom: 0.5em;}#sk-container-id-3 div.sk-estimator:hover {background-color: #d4ebff;}#sk-container-id-3 div.sk-parallel-item::after {content: \"\";width: 100%;border-bottom: 1px solid gray;flex-grow: 1;}#sk-container-id-3 div.sk-label:hover label.sk-toggleable__label {background-color: #d4ebff;}#sk-container-id-3 div.sk-serial::before {content: \"\";position: absolute;border-left: 1px solid gray;box-sizing: border-box;top: 0;bottom: 0;left: 50%;z-index: 0;}#sk-container-id-3 div.sk-serial {display: flex;flex-direction: column;align-items: center;background-color: white;padding-right: 0.2em;padding-left: 0.2em;position: relative;}#sk-container-id-3 div.sk-item {position: relative;z-index: 1;}#sk-container-id-3 div.sk-parallel {display: flex;align-items: stretch;justify-content: center;background-color: white;position: relative;}#sk-container-id-3 div.sk-item::before, #sk-container-id-3 div.sk-parallel-item::before {content: \"\";position: absolute;border-left: 1px solid gray;box-sizing: border-box;top: 0;bottom: 0;left: 50%;z-index: -1;}#sk-container-id-3 div.sk-parallel-item {display: flex;flex-direction: column;z-index: 1;position: relative;background-color: white;}#sk-container-id-3 div.sk-parallel-item:first-child::after {align-self: flex-end;width: 50%;}#sk-container-id-3 div.sk-parallel-item:last-child::after {align-self: flex-start;width: 50%;}#sk-container-id-3 div.sk-parallel-item:only-child::after {width: 0;}#sk-container-id-3 div.sk-dashed-wrapped {border: 1px dashed gray;margin: 0 0.4em 0.5em 0.4em;box-sizing: border-box;padding-bottom: 0.4em;background-color: white;}#sk-container-id-3 div.sk-label label {font-family: monospace;font-weight: bold;display: inline-block;line-height: 1.2em;}#sk-container-id-3 div.sk-label-container {text-align: center;}#sk-container-id-3 div.sk-container {/* jupyter's `normalize.less` sets `[hidden] { display: none; }` but bootstrap.min.css set `[hidden] { display: none !important; }` so we also need the `!important` here to be able to override the default hidden behavior on the sphinx rendered scikit-learn.org. See: https://github.com/scikit-learn/scikit-learn/issues/21755 */display: inline-block !important;position: relative;}#sk-container-id-3 div.sk-text-repr-fallback {display: none;}</style><div id=\"sk-container-id-3\" class=\"sk-top-container\"><div class=\"sk-text-repr-fallback\"><pre>LinearRegression()</pre><b>In a Jupyter environment, please rerun this cell to show the HTML representation or trust the notebook. <br />On GitHub, the HTML representation is unable to render, please try loading this page with nbviewer.org.</b></div><div class=\"sk-container\" hidden><div class=\"sk-item\"><div class=\"sk-estimator sk-toggleable\"><input class=\"sk-toggleable__control sk-hidden--visually\" id=\"sk-estimator-id-3\" type=\"checkbox\" checked><label for=\"sk-estimator-id-3\" class=\"sk-toggleable__label sk-toggleable__label-arrow\">LinearRegression</label><div class=\"sk-toggleable__content\"><pre>LinearRegression()</pre></div></div></div></div></div>"
            ]
          },
          "metadata": {},
          "execution_count": 289
        }
      ]
    },
    {
      "cell_type": "markdown",
      "metadata": {
        "id": "pTwMheqMM0Kf"
      },
      "source": [
        "**Step 3: Performance Evaluation**\n",
        "\n",
        "*Now use the fitted model to evaluate performance on your 20% holdout test dataset, using the mean squared error (*MSE*) performance metric:*\n",
        "Note, that neither model had 'seen' this data before. This is crucial."
      ]
    },
    {
      "cell_type": "code",
      "metadata": {
        "id": "4E6JDqYOM7AR",
        "colab": {
          "base_uri": "https://localhost:8080/",
          "height": 0
        },
        "outputId": "55c0a90d-5e5c-4b9b-d628-6d1c000a1a7f"
      },
      "source": [
        "from sklearn.metrics import mean_squared_error # please use MSE\n",
        "\n",
        "y_hat_rfo = model_rfo.predict(X_test) # make predictions using your random forest model\n",
        "y_hat_lin = model_lin.predict(X_test) # make predictions using your linear regression model\n",
        "\n",
        "mse_rfo = mean_squared_error(y_test, y_hat_rfo) # calculate random forest prediction MSE\n",
        "mse_lin = mean_squared_error(y_test, y_hat_lin) # calculate linear regression prediction MSE\n",
        "\n",
        "print('MSE Random Forest: %.3f' % mse_rfo)\n",
        "print('MSE Linear Regression: %.3f' % mse_lin)"
      ],
      "execution_count": 291,
      "outputs": [
        {
          "output_type": "stream",
          "name": "stdout",
          "text": [
            "MSE Random Forest: 0.006\n",
            "MSE Linear Regression: 0.026\n"
          ]
        }
      ]
    },
    {
      "cell_type": "markdown",
      "metadata": {
        "id": "uHDkZUZMWP-B"
      },
      "source": [
        "<img src =\"https://i.ibb.co/Yyk6PBP/laughing-men-testing.jpg\" width=500 height=300>"
      ]
    },
    {
      "cell_type": "markdown",
      "metadata": {
        "id": "oyUb34dPpqdk"
      },
      "source": [
        "*It is always a good idea, to get a visual intuition as well, so let's quickly plot ground truth y_test against our predictions y_hat_rfo and y_hat_lin*: "
      ]
    },
    {
      "cell_type": "code",
      "metadata": {
        "id": "4FtycYu3cdE-",
        "colab": {
          "base_uri": "https://localhost:8080/",
          "height": 843
        },
        "outputId": "fe046044-c94d-4eb9-9d9b-db9dea9778fd"
      },
      "source": [
        "import matplotlib.pyplot as plt\n",
        "\n",
        "plt.scatter(y_test, y_hat_rfo) # generate a scatter plot for your random forest predictions\n",
        "plt.show()\n",
        "\n",
        "plt.scatter(y_test, y_hat_lin) # generate a scatter plot for your linear regression predictions\n",
        "plt.show()"
      ],
      "execution_count": 292,
      "outputs": [
        {
          "output_type": "display_data",
          "data": {
            "text/plain": [
              "<Figure size 640x480 with 1 Axes>"
            ],
            "image/png": "[encoded data removed]"
          },
          "metadata": {}
        },
        {
          "output_type": "display_data",
          "data": {
            "text/plain": [
              "<Figure size 640x480 with 1 Axes>"
            ],
            "image/png": "[encoded data removed]"
          },
          "metadata": {}
        }
      ]
    },
    {
      "cell_type": "markdown",
      "metadata": {
        "id": "7CN3utEwql_5"
      },
      "source": [
        "Taking both the MSE and the visual representation - which model performs better?"
      ]
    },
    {
      "cell_type": "code",
      "metadata": {
        "id": "WK9El9w1qv1v"
      },
      "source": [
        "# write your answer: The MSE of the Random Forest Prediction is lower than the one of the Linear Regression. Also the values are tighter clustered\n",
        "# and therefore I would say, that the Random Forest Prediction performs overall better."
      ],
      "execution_count": null,
      "outputs": []
    },
    {
      "cell_type": "markdown",
      "metadata": {
        "id": "QED3CFGxq1Wi"
      },
      "source": [
        "**Step 4: Generating Insights**\n",
        "\n",
        "Let's use our model to find out what is the most important variable for quality. \n",
        "\n",
        "*Please create a dataframe which has all the X variables and their respective performance and sort the dataframe by importance:*"
      ]
    },
    {
      "cell_type": "code",
      "metadata": {
        "id": "Pacpzzrhd1fe",
        "colab": {
          "base_uri": "https://localhost:8080/",
          "height": 0
        },
        "outputId": "0cb08fdc-308c-4455-f72b-1954eeaa9cb0"
      },
      "source": [
        "insights = pd.DataFrame(columns=['variable','importance'])\n",
        "\n",
        "insights['variable'] = X_train.columns.tolist()\n",
        "insights['importance'] = model_rfo.feature_importances_\n",
        "\n",
        "insights = insights.sort_values('importance', ascending=False)\n",
        "print(insights) #please print the sorted table - what is most imporant? - most important is the total sulfur dioxide"
      ],
      "execution_count": 302,
      "outputs": [
        {
          "output_type": "stream",
          "name": "stdout",
          "text": [
            "                variable  importance\n",
            "6   total sulfur dioxide    0.631731\n",
            "4              chlorides    0.240476\n",
            "1       volatile acidity    0.035901\n",
            "7                density    0.023347\n",
            "0          fixed acidity    0.020179\n",
            "9              sulphates    0.015523\n",
            "8                     pH    0.012021\n",
            "3         residual sugar    0.009904\n",
            "10               alcohol    0.005281\n",
            "2            citric acid    0.002905\n",
            "5    free sulfur dioxide    0.001891\n",
            "11               quality    0.000840\n"
          ]
        }
      ]
    },
    {
      "cell_type": "markdown",
      "source": [
        "## Advanced Machine Learning Pipeline\n",
        "\n",
        "Finally we will now analyze the sentiment of thousands of tweets. The dataset we use includes english tweets about how good or bad flying with a specific airline was. We will use these tweets to predict, if the content of the tweet is positive, neutral or negative.\n",
        "\n",
        "Because unstructured data in form of text is really hard to analyze for machine learning models we will now use a modern neural network. The neural net we will use is already trained to understand english language. In the upcoming cells we will download the model and train it (named fine-tuning) on the task of sentiment classification (e.g. predicting if the tweet is positive, neutral or negative in sentiment).\n",
        "\n",
        "We will use code from the website huggingface.com. A website that hosts many of the latest trained neural networks. By starting with an already pre-trained network we reduce the amount of work that we need to do by a lot.\n",
        "Many researchers today use such pre-trained models to then later train them to classify text, analyze images or other interesting data.\n",
        "\n",
        "**Please fill in all the ... in the upcoming cells to make your model work.** If you ever need more information feel free to google about the code or look specifically into the documentation of the huggingface code we will be using. Link: https://huggingface.co/docs"
      ],
      "metadata": {
        "id": "uEOBP9nzFwwF"
      }
    },
    {
      "cell_type": "markdown",
      "source": [
        "First we install the transformer library (made by the huggingface team) that we need and import all needed packages"
      ],
      "metadata": {
        "id": "Sjp7SIepFUTp"
      }
    },
    {
      "cell_type": "code",
      "source": [
        "!pip install --quiet transformers torch"
      ],
      "metadata": {
        "id": "81I8SeZ1F56t"
      },
      "execution_count": 29,
      "outputs": []
    },
    {
      "cell_type": "code",
      "source": [
        "import torch\n",
        "from transformers import AutoTokenizer,  AutoModelForSequenceClassification\n",
        "from transformers import Trainer, TrainingArguments\n",
        "import numpy as np\n",
        "import pandas as pd\n",
        "from sklearn.model_selection import train_test_split"
      ],
      "metadata": {
        "id": "z-TSr7ALGB8B"
      },
      "execution_count": 30,
      "outputs": []
    },
    {
      "cell_type": "markdown",
      "source": [
        "To work with large language models like we are now doing, you need a graphics card (GPU). Run the next cell. If it outputs 'True', you are ready to continue.\n",
        "If the next cell outputs 'False', you need to activate your GPU in Google Colab. \n",
        "\n",
        "For that:\n",
        "\n",
        "1. Go to Menu at the top (Menü oben) > Runtime (Laufzeit) > Change runtime (Laufzeittyp ändern).\n",
        "2. Change hardware acceleration to GPU (Hardwarebeschleuniger zu GPU)."
      ],
      "metadata": {
        "id": "8AeSIat2vX1c"
      }
    },
    {
      "cell_type": "code",
      "source": [
        "torch.cuda.is_available()"
      ],
      "metadata": {
        "id": "qKJhtcQ4vGw6",
        "colab": {
          "base_uri": "https://localhost:8080/",
          "height": 0
        },
        "outputId": "30317e0f-7c65-4b20-a499-ccc688ae7ea7"
      },
      "execution_count": 31,
      "outputs": [
        {
          "output_type": "execute_result",
          "data": {
            "text/plain": [
              "True"
            ]
          },
          "metadata": {},
          "execution_count": 31
        }
      ]
    },
    {
      "cell_type": "markdown",
      "source": [
        "**Step 1: Data Preparation**"
      ],
      "metadata": {
        "id": "R1EUjacuGWwP"
      }
    },
    {
      "cell_type": "code",
      "source": [
        "url_train = 'https://raw.githubusercontent.com/Maximilianwte/Data-Science-for-Customer-Insight/main/train.csv'"
      ],
      "metadata": {
        "id": "XXLcMVTxF5r9"
      },
      "execution_count": 32,
      "outputs": []
    },
    {
      "cell_type": "code",
      "source": [
        "df = pd.read_csv(url_train, index_col=0) # Load the data from the variable url_train into a pandas dataframe"
      ],
      "metadata": {
        "id": "_aOuh360pzN_"
      },
      "execution_count": 33,
      "outputs": []
    },
    {
      "cell_type": "markdown",
      "source": [
        "Next we need to transform the labels from text values (e.g. 'positive') to numerical values, so that the model can understand these. For that we first build a small lambda function and apply it to our dataframe."
      ],
      "metadata": {
        "id": "d5sCr8hfF8Sp"
      }
    },
    {
      "cell_type": "code",
      "source": [
        "def transform_label(x): # build a function that returns 2 if input x is 'positive', returns 1 if x == 'neutral' and else returns 0\n",
        "    if x == 'positive':\n",
        "      return 2\n",
        "    elif x == 'neutral':\n",
        "      return 1\n",
        "    else:\n",
        "      return 0\n",
        "\n",
        "df['airline_sentiment'] = df['airline_sentiment'].apply(lambda x: transform_label(x))"
      ],
      "metadata": {
        "id": "zU1tfiqR-kaX"
      },
      "execution_count": 34,
      "outputs": []
    },
    {
      "cell_type": "markdown",
      "source": [
        "Finally lets explore our dataframe to check if our transformation worked."
      ],
      "metadata": {
        "id": "L8KpDgiTGdkd"
      }
    },
    {
      "cell_type": "code",
      "source": [
        "df.head() # Display the first five rows of the train dataframe, head() has 5 by default"
      ],
      "metadata": {
        "colab": {
          "base_uri": "https://localhost:8080/",
          "height": 206
        },
        "id": "bP3ctBUNyfo6",
        "outputId": "2809e0f5-1919-44fe-a061-411164102a7e"
      },
      "execution_count": 35,
      "outputs": [
        {
          "output_type": "execute_result",
          "data": {
            "text/plain": [
              "   airline_sentiment                                               text\n",
              "0                  1                @VirginAmerica What @dhepburn said.\n",
              "1                  2  @VirginAmerica plus you've added commercials t...\n",
              "2                  1  @VirginAmerica I didn't today... Must mean I n...\n",
              "3                  0  @VirginAmerica it's really aggressive to blast...\n",
              "4                  0  @VirginAmerica and it's a really big bad thing..."
            ],
            "text/html": [
              "\n",
              "  <div id=\"df-ff7707a5-91cc-41c3-afd6-7598bca3c368\">\n",
              "    <div class=\"colab-df-container\">\n",
              "      <div>\n",
              "<style scoped>\n",
              "    .dataframe tbody tr th:only-of-type {\n",
              "        vertical-align: middle;\n",
              "    }\n",
              "\n",
              "    .dataframe tbody tr th {\n",
              "        vertical-align: top;\n",
              "    }\n",
              "\n",
              "    .dataframe thead th {\n",
              "        text-align: right;\n",
              "    }\n",
              "</style>\n",
              "<table border=\"1\" class=\"dataframe\">\n",
              "  <thead>\n",
              "    <tr style=\"text-align: right;\">\n",
              "      <th></th>\n",
              "      <th>airline_sentiment</th>\n",
              "      <th>text</th>\n",
              "    </tr>\n",
              "  </thead>\n",
              "  <tbody>\n",
              "    <tr>\n",
              "      <th>0</th>\n",
              "      <td>1</td>\n",
              "      <td>@VirginAmerica What @dhepburn said.</td>\n",
              "    </tr>\n",
              "    <tr>\n",
              "      <th>1</th>\n",
              "      <td>2</td>\n",
              "      <td>@VirginAmerica plus you've added commercials t...</td>\n",
              "    </tr>\n",
              "    <tr>\n",
              "      <th>2</th>\n",
              "      <td>1</td>\n",
              "      <td>@VirginAmerica I didn't today... Must mean I n...</td>\n",
              "    </tr>\n",
              "    <tr>\n",
              "      <th>3</th>\n",
              "      <td>0</td>\n",
              "      <td>@VirginAmerica it's really aggressive to blast...</td>\n",
              "    </tr>\n",
              "    <tr>\n",
              "      <th>4</th>\n",
              "      <td>0</td>\n",
              "      <td>@VirginAmerica and it's a really big bad thing...</td>\n",
              "    </tr>\n",
              "  </tbody>\n",
              "</table>\n",
              "</div>\n",
              "      <button class=\"colab-df-convert\" onclick=\"convertToInteractive('df-ff7707a5-91cc-41c3-afd6-7598bca3c368')\"\n",
              "              title=\"Convert this dataframe to an interactive table.\"\n",
              "              style=\"display:none;\">\n",
              "        \n",
              "  <svg xmlns=\"http://www.w3.org/2000/svg\" height=\"24px\"viewBox=\"0 0 24 24\"\n",
              "       width=\"24px\">\n",
              "    <path d=\"M0 0h24v24H0V0z\" fill=\"none\"/>\n",
              "    <path d=\"M18.56 5.44l.94 2.06.94-2.06 2.06-.94-2.06-.94-.94-2.06-.94 2.06-2.06.94zm-11 1L8.5 8.5l.94-2.06 2.06-.94-2.06-.94L8.5 2.5l-.94 2.06-2.06.94zm10 10l.94 2.06.94-2.06 2.06-.94-2.06-.94-.94-2.06-.94 2.06-2.06.94z\"/><path d=\"M17.41 7.96l-1.37-1.37c-.4-.4-.92-.59-1.43-.59-.52 0-1.04.2-1.43.59L10.3 9.45l-7.72 7.72c-.78.78-.78 2.05 0 2.83L4 21.41c.39.39.9.59 1.41.59.51 0 1.02-.2 1.41-.59l7.78-7.78 2.81-2.81c.8-.78.8-2.07 0-2.86zM5.41 20L4 18.59l7.72-7.72 1.47 1.35L5.41 20z\"/>\n",
              "  </svg>\n",
              "      </button>\n",
              "      \n",
              "  <style>\n",
              "    .colab-df-container {\n",
              "      display:flex;\n",
              "      flex-wrap:wrap;\n",
              "      gap: 12px;\n",
              "    }\n",
              "\n",
              "    .colab-df-convert {\n",
              "      background-color: #E8F0FE;\n",
              "      border: none;\n",
              "      border-radius: 50%;\n",
              "      cursor: pointer;\n",
              "      display: none;\n",
              "      fill: #1967D2;\n",
              "      height: 32px;\n",
              "      padding: 0 0 0 0;\n",
              "      width: 32px;\n",
              "    }\n",
              "\n",
              "    .colab-df-convert:hover {\n",
              "      background-color: #E2EBFA;\n",
              "      box-shadow: 0px 1px 2px rgba(60, 64, 67, 0.3), 0px 1px 3px 1px rgba(60, 64, 67, 0.15);\n",
              "      fill: #174EA6;\n",
              "    }\n",
              "\n",
              "    [theme=dark] .colab-df-convert {\n",
              "      background-color: #3B4455;\n",
              "      fill: #D2E3FC;\n",
              "    }\n",
              "\n",
              "    [theme=dark] .colab-df-convert:hover {\n",
              "      background-color: #434B5C;\n",
              "      box-shadow: 0px 1px 3px 1px rgba(0, 0, 0, 0.15);\n",
              "      filter: drop-shadow(0px 1px 2px rgba(0, 0, 0, 0.3));\n",
              "      fill: #FFFFFF;\n",
              "    }\n",
              "  </style>\n",
              "\n",
              "      <script>\n",
              "        const buttonEl =\n",
              "          document.querySelector('#df-ff7707a5-91cc-41c3-afd6-7598bca3c368 button.colab-df-convert');\n",
              "        buttonEl.style.display =\n",
              "          google.colab.kernel.accessAllowed ? 'block' : 'none';\n",
              "\n",
              "        async function convertToInteractive(key) {\n",
              "          const element = document.querySelector('#df-ff7707a5-91cc-41c3-afd6-7598bca3c368');\n",
              "          const dataTable =\n",
              "            await google.colab.kernel.invokeFunction('convertToInteractive',\n",
              "                                                     [key], {});\n",
              "          if (!dataTable) return;\n",
              "\n",
              "          const docLinkHtml = 'Like what you see? Visit the ' +\n",
              "            '<a target=\"_blank\" href=https://colab.research.google.com/notebooks/data_table.ipynb>data table notebook</a>'\n",
              "            + ' to learn more about interactive tables.';\n",
              "          element.innerHTML = '';\n",
              "          dataTable['output_type'] = 'display_data';\n",
              "          await google.colab.output.renderOutput(dataTable, element);\n",
              "          const docLink = document.createElement('div');\n",
              "          docLink.innerHTML = docLinkHtml;\n",
              "          element.appendChild(docLink);\n",
              "        }\n",
              "      </script>\n",
              "    </div>\n",
              "  </div>\n",
              "  "
            ]
          },
          "metadata": {},
          "execution_count": 35
        }
      ]
    },
    {
      "cell_type": "markdown",
      "source": [
        "**Step 2: Loading model**\n",
        "\n",
        "Next we load a model from the Huggingface Libary. We use a model that is already trained to understand english. If you want to, you can try out other models from the website by copying in the model name into the variable below: https://huggingface.co/models."
      ],
      "metadata": {
        "id": "k4wBlql4GaC0"
      }
    },
    {
      "cell_type": "code",
      "source": [
        "model_name = \"distilbert-base-uncased\"\n",
        "\n",
        "tokenizer = AutoTokenizer.from_pretrained(model_name, do_lower_case=True)\n",
        "model = AutoModelForSequenceClassification.from_pretrained(model_name, num_labels=1).to(\"cuda\")"
      ],
      "metadata": {
        "id": "fmENhUoHGh4M",
        "colab": {
          "base_uri": "https://localhost:8080/",
          "height": 0
        },
        "outputId": "35d3fee2-9b41-4109-9138-93c3a5253897"
      },
      "execution_count": 36,
      "outputs": [
        {
          "output_type": "stream",
          "name": "stderr",
          "text": [
            "Some weights of the model checkpoint at distilbert-base-uncased were not used when initializing DistilBertForSequenceClassification: ['vocab_projector.weight', 'vocab_projector.bias', 'vocab_transform.weight', 'vocab_layer_norm.bias', 'vocab_transform.bias', 'vocab_layer_norm.weight']\n",
            "- This IS expected if you are initializing DistilBertForSequenceClassification from the checkpoint of a model trained on another task or with another architecture (e.g. initializing a BertForSequenceClassification model from a BertForPreTraining model).\n",
            "- This IS NOT expected if you are initializing DistilBertForSequenceClassification from the checkpoint of a model that you expect to be exactly identical (initializing a BertForSequenceClassification model from a BertForSequenceClassification model).\n",
            "Some weights of DistilBertForSequenceClassification were not initialized from the model checkpoint at distilbert-base-uncased and are newly initialized: ['pre_classifier.bias', 'pre_classifier.weight', 'classifier.bias', 'classifier.weight']\n",
            "You should probably TRAIN this model on a down-stream task to be able to use it for predictions and inference.\n"
          ]
        }
      ]
    },
    {
      "cell_type": "markdown",
      "source": [
        "**Step 3: Building the datasets classes and converting the text data to text embeddings**"
      ],
      "metadata": {
        "id": "KbJ3RyUEHEy7"
      }
    },
    {
      "cell_type": "markdown",
      "source": [
        "For the model we need a train and validation dataset. Therefore we split the loaded dataframe into train and val. "
      ],
      "metadata": {
        "id": "37040fjsJt3a"
      }
    },
    {
      "cell_type": "code",
      "source": [
        "df_train = df.sample(frac=0.8, random_state=152) # Split the training data so that 20% are stored in df_val afterwards\n",
        "df_val = df.drop(df_train.index) # drop all rows that are in df_train, so that there are no tweets in val that are already in train\n",
        "len(df_val)"
      ],
      "metadata": {
        "id": "6gFeSj3nsmDm",
        "colab": {
          "base_uri": "https://localhost:8080/",
          "height": 0
        },
        "outputId": "a5a04af0-0142-4277-e6e0-7370c3c11e35"
      },
      "execution_count": 37,
      "outputs": [
        {
          "output_type": "execute_result",
          "data": {
            "text/plain": [
              "2728"
            ]
          },
          "metadata": {},
          "execution_count": 37
        }
      ]
    },
    {
      "cell_type": "markdown",
      "source": [
        "Next we convert the pandas dataframe into a dataset class, that makes it easier for the neural network to work with the data. You can write the code for such a dataset class yourself. You see the complete working class for this dataset below.\n",
        "\n",
        "Typically such a dataset class includes 2 methods. The __getitem__() method, that will return a specific tweet when you want to get an item as usual (e.g. train[2] to get item 2) and the __len__() method, that returns the amount of data in your dataset.\n",
        "\n",
        "Take a look at the class below to get an understanding. We put in the dataframe we loaded in previously as well as the tokenizer that will convert our tweets into numerical values so that the neural network can later work with it."
      ],
      "metadata": {
        "id": "Z3M5s9WK_6iB"
      }
    },
    {
      "cell_type": "code",
      "source": [
        "class AirlineSentimentDataset(torch.utils.data.Dataset):\n",
        "    def __init__(self, dataframe, tokenizer, max_length):\n",
        "        self.dataframe = dataframe\n",
        "        self.texts = self.dataframe.text.to_list()\n",
        "        self.text_embeddings = tokenizer(self.texts, truncation=True, padding=True, max_length=max_length)\n",
        "        self.labels = self.dataframe.airline_sentiment.values\n",
        "\n",
        "    def __getitem__(self, idx):\n",
        "        item = {k: torch.tensor(v[idx]) for k, v in self.text_embeddings.items()}\n",
        "        item[\"labels\"] = torch.tensor(float(self.labels[idx]))\n",
        "        return item\n",
        "\n",
        "    def __len__(self):\n",
        "        return len(self.labels)"
      ],
      "metadata": {
        "id": "C0nOrW6jqn2V"
      },
      "execution_count": 38,
      "outputs": []
    },
    {
      "cell_type": "markdown",
      "source": [
        "Here we now build an instance of our newly defined dataset class with our training and validation data. We then can use 'train_dataset' and 'val_dataset' in training the model."
      ],
      "metadata": {
        "id": "r-LLpju7A0fY"
      }
    },
    {
      "cell_type": "code",
      "source": [
        "max_length = 64 # the maximum words a tweet is analyzed for\n",
        "\n",
        "train_dataset = AirlineSentimentDataset(df_train, tokenizer, max_length)\n",
        "val_dataset = AirlineSentimentDataset(df_val, tokenizer, max_length)"
      ],
      "metadata": {
        "id": "-RI4SdEvqpXm"
      },
      "execution_count": 39,
      "outputs": []
    },
    {
      "cell_type": "markdown",
      "source": [
        "**Step 4: Training the model**"
      ],
      "metadata": {
        "id": "VKIu6bKqHIRM"
      }
    },
    {
      "cell_type": "markdown",
      "source": [
        "Now lets train the model. First we define the hyperparameters. These define for example how long the model should be trained or how many tweets the model should be trained on at each point in time. "
      ],
      "metadata": {
        "id": "FQ0gosicKhHR"
      }
    },
    {
      "cell_type": "code",
      "source": [
        "training_args = TrainingArguments(\n",
        "    num_train_epochs=10,           \n",
        "    per_device_train_batch_size= 32, # set batch size for training to 32\n",
        "    per_device_eval_batch_size= 32, # also set the batch size for evaluation to 32\n",
        "    load_best_model_at_end= True, # activate that the best model will be chosen after training\n",
        "    logging_steps=400,               \n",
        "    save_steps=400,\n",
        "    evaluation_strategy=\"steps\", \n",
        "    output_dir=\"/content/model\" \n",
        ")"
      ],
      "metadata": {
        "id": "sdpJXfusHTcd"
      },
      "execution_count": 40,
      "outputs": []
    },
    {
      "cell_type": "markdown",
      "source": [
        "To make the training work, the trainer must know if the model is getting better or not learning. Therefore here we define a metric for the trainer to use. Because we are doing classification we choose the accuracy score again."
      ],
      "metadata": {
        "id": "5pKzzl2FL5ul"
      }
    },
    {
      "cell_type": "code",
      "source": [
        "from sklearn.metrics import accuracy_score # load the accuracy_score from the sklearn library\n",
        "\n",
        "def compute_metrics(pred):\n",
        "  labels = pred.label_ids\n",
        "  predictions = pred.predictions.argmax(-1)\n",
        "  acc = accuracy_score(labels, predictions) # run the accuracy_score function with inputs labels and predictions\n",
        "  return {\n",
        "      'accuracy': acc,\n",
        "  }"
      ],
      "metadata": {
        "id": "aAMP4LEgrus3"
      },
      "execution_count": 41,
      "outputs": []
    },
    {
      "cell_type": "markdown",
      "source": [
        "Here we define the trainer. The trainer is fitting the model parameters and minimizing the loss function to make the prediction as accurate as possible. You just need to define the trainer and afterwards start the training process. Then the model will get trained and we can use it to predict new data afterwards."
      ],
      "metadata": {
        "id": "o0Y5gz_SNKVb"
      }
    },
    {
      "cell_type": "code",
      "source": [
        "trainer = Trainer(\n",
        "    model=model, # put in the model that we loaded a few cells ago                         \n",
        "    args=training_args,                  \n",
        "    train_dataset=train_dataset,         \n",
        "    eval_dataset=val_dataset,          \n",
        "    compute_metrics=compute_metrics,     \n",
        ")"
      ],
      "metadata": {
        "id": "uCuvfxLQHXvJ"
      },
      "execution_count": 42,
      "outputs": []
    },
    {
      "cell_type": "code",
      "source": [
        "trainer.train() # train the model"
      ],
      "metadata": {
        "id": "OfxqrMW3HbwL",
        "colab": {
          "base_uri": "https://localhost:8080/",
          "height": 379
        },
        "outputId": "addf1f8b-d540-40da-ddc3-a29cb4d86dbe"
      },
      "execution_count": 43,
      "outputs": [
        {
          "output_type": "stream",
          "name": "stderr",
          "text": [
            "/usr/local/lib/python3.9/dist-packages/transformers/optimization.py:391: FutureWarning: This implementation of AdamW is deprecated and will be removed in a future version. Use the PyTorch implementation torch.optim.AdamW instead, or set `no_deprecation_warning=True` to disable this warning\n",
            "  warnings.warn(\n"
          ]
        },
        {
          "output_type": "display_data",
          "data": {
            "text/plain": [
              "<IPython.core.display.HTML object>"
            ],
            "text/html": [
              "\n",
              "    <div>\n",
              "      \n",
              "      <progress value='3420' max='3420' style='width:300px; height:20px; vertical-align: middle;'></progress>\n",
              "      [3420/3420 11:10, Epoch 10/10]\n",
              "    </div>\n",
              "    <table border=\"1\" class=\"dataframe\">\n",
              "  <thead>\n",
              " <tr style=\"text-align: left;\">\n",
              "      <th>Step</th>\n",
              "      <th>Training Loss</th>\n",
              "      <th>Validation Loss</th>\n",
              "      <th>Accuracy</th>\n",
              "    </tr>\n",
              "  </thead>\n",
              "  <tbody>\n",
              "    <tr>\n",
              "      <td>400</td>\n",
              "      <td>0.229600</td>\n",
              "      <td>0.223512</td>\n",
              "      <td>0.608138</td>\n",
              "    </tr>\n",
              "    <tr>\n",
              "      <td>800</td>\n",
              "      <td>0.116400</td>\n",
              "      <td>0.217250</td>\n",
              "      <td>0.608138</td>\n",
              "    </tr>\n",
              "    <tr>\n",
              "      <td>1200</td>\n",
              "      <td>0.065400</td>\n",
              "      <td>0.224811</td>\n",
              "      <td>0.608138</td>\n",
              "    </tr>\n",
              "    <tr>\n",
              "      <td>1600</td>\n",
              "      <td>0.037700</td>\n",
              "      <td>0.228503</td>\n",
              "      <td>0.608138</td>\n",
              "    </tr>\n",
              "    <tr>\n",
              "      <td>2000</td>\n",
              "      <td>0.027400</td>\n",
              "      <td>0.219324</td>\n",
              "      <td>0.608138</td>\n",
              "    </tr>\n",
              "    <tr>\n",
              "      <td>2400</td>\n",
              "      <td>0.017600</td>\n",
              "      <td>0.221864</td>\n",
              "      <td>0.608138</td>\n",
              "    </tr>\n",
              "    <tr>\n",
              "      <td>2800</td>\n",
              "      <td>0.013400</td>\n",
              "      <td>0.218998</td>\n",
              "      <td>0.608138</td>\n",
              "    </tr>\n",
              "    <tr>\n",
              "      <td>3200</td>\n",
              "      <td>0.011200</td>\n",
              "      <td>0.224301</td>\n",
              "      <td>0.608138</td>\n",
              "    </tr>\n",
              "  </tbody>\n",
              "</table><p>"
            ]
          },
          "metadata": {}
        },
        {
          "output_type": "execute_result",
          "data": {
            "text/plain": [
              "TrainOutput(global_step=3420, training_loss=0.061328575834196215, metrics={'train_runtime': 670.2881, 'train_samples_per_second': 162.811, 'train_steps_per_second': 5.102, 'total_flos': 1806988676263680.0, 'train_loss': 0.061328575834196215, 'epoch': 10.0})"
            ]
          },
          "metadata": {},
          "execution_count": 43
        }
      ]
    },
    {
      "cell_type": "markdown",
      "source": [
        "**Step 5: Evaluation and prediction**"
      ],
      "metadata": {
        "id": "EpYFuducHKow"
      }
    },
    {
      "cell_type": "markdown",
      "source": [
        "Now after we trained the model lets evaluate the model by printing out some technical metrics."
      ],
      "metadata": {
        "id": "dRY0D8GVNZDd"
      }
    },
    {
      "cell_type": "code",
      "source": [
        "trainer.evaluate() # use a built-in method to evaluate your trained model"
      ],
      "metadata": {
        "id": "yprnhpzmHfyl",
        "colab": {
          "base_uri": "https://localhost:8080/",
          "height": 141
        },
        "outputId": "55182502-b3b8-4fad-c95a-9ae45d13e024"
      },
      "execution_count": 44,
      "outputs": [
        {
          "output_type": "display_data",
          "data": {
            "text/plain": [
              "<IPython.core.display.HTML object>"
            ],
            "text/html": [
              "\n",
              "    <div>\n",
              "      \n",
              "      <progress value='86' max='86' style='width:300px; height:20px; vertical-align: middle;'></progress>\n",
              "      [86/86 00:05]\n",
              "    </div>\n",
              "    "
            ]
          },
          "metadata": {}
        },
        {
          "output_type": "execute_result",
          "data": {
            "text/plain": [
              "{'eval_loss': 0.21725007891654968,\n",
              " 'eval_accuracy': 0.6081378299120235,\n",
              " 'eval_runtime': 5.3229,\n",
              " 'eval_samples_per_second': 512.502,\n",
              " 'eval_steps_per_second': 16.157,\n",
              " 'epoch': 10.0}"
            ]
          },
          "metadata": {},
          "execution_count": 44
        }
      ]
    },
    {
      "cell_type": "markdown",
      "source": [
        "As our last task lets define a function that predicts the sentiment of any statement you put in using our new model."
      ],
      "metadata": {
        "id": "O6PMlj2tNk8R"
      }
    },
    {
      "cell_type": "code",
      "source": [
        "def get_prediction(text):\n",
        "    inputs = tokenizer(text, padding=True, truncation=True, max_length=64, return_tensors=\"pt\").to(\"cuda\")\n",
        "    outputs = model(**inputs)\n",
        "    probs = outputs[0].softmax(1)\n",
        "    classes = {0: 'negative', 1: 'neutral', 2: 'positive'}\n",
        "    return classes[int(probs.cpu().detach().numpy()[0][0])]"
      ],
      "metadata": {
        "id": "cNC5x7ApHlVI"
      },
      "execution_count": 45,
      "outputs": []
    },
    {
      "cell_type": "markdown",
      "source": [
        "Now test how good your model is. Try out any text to see if your model predicts the sentiment correctly.. and is your model good?"
      ],
      "metadata": {
        "id": "j02DJ4wNNuI5"
      }
    },
    {
      "cell_type": "code",
      "source": [
        "get_prediction('I was surprised about how good it was and I would like to experience it again.') # Come up with a sentence try your newly built model\n",
        "# i don't think that it's that good, because it mostly says neutral"
      ],
      "metadata": {
        "id": "9DF72LcqCszn",
        "colab": {
          "base_uri": "https://localhost:8080/",
          "height": 35
        },
        "outputId": "ef169b08-ff48-4107-bd6f-77dc5e1d7aef"
      },
      "execution_count": 46,
      "outputs": [
        {
          "output_type": "execute_result",
          "data": {
            "text/plain": [
              "'neutral'"
            ],
            "application/vnd.google.colaboratory.intrinsic+json": {
              "type": "string"
            }
          },
          "metadata": {},
          "execution_count": 46
        }
      ]
    },
    {
      "cell_type": "markdown",
      "source": [
        "Save your model so that you can use it in the future."
      ],
      "metadata": {
        "id": "Ol8zC5qqN357"
      }
    },
    {
      "cell_type": "code",
      "source": [
        "model.save_pretrained('/path/to/save/directory') # save your model"
      ],
      "metadata": {
        "id": "5Zb-RQpct2IB"
      },
      "execution_count": 47,
      "outputs": []
    },
    {
      "cell_type": "markdown",
      "metadata": {
        "id": "tClVksnmXsNn"
      },
      "source": [
        "## Save & Submit\n",
        "\n",
        "Please make sure you included your name and matrikel at the top of this notebook, save your work **with your name in the file name**, and send **two** files to jasper dot schwenzow at uni dash hamburg dot de:\n",
        "- Ipynb *(Go to File -> Download .ipynb)*\n",
        "- PDF *(Go to File -> Print -> Save as PDF)* (optional)\n",
        "\n"
      ]
    }
  ]
}